{
 "cells": [
  {
   "cell_type": "code",
   "execution_count": 1,
   "metadata": {},
   "outputs": [],
   "source": [
    "import pandas as pd\n",
    "from scipy import stats\n",
    "import numpy as np"
   ]
  },
  {
   "cell_type": "markdown",
   "metadata": {},
   "source": [
    "## Fake the control and treatment data"
   ]
  },
  {
   "cell_type": "code",
   "execution_count": 2,
   "metadata": {},
   "outputs": [
    {
     "data": {
      "text/html": [
       "<div>\n",
       "<style scoped>\n",
       "    .dataframe tbody tr th:only-of-type {\n",
       "        vertical-align: middle;\n",
       "    }\n",
       "\n",
       "    .dataframe tbody tr th {\n",
       "        vertical-align: top;\n",
       "    }\n",
       "\n",
       "    .dataframe thead th {\n",
       "        text-align: right;\n",
       "    }\n",
       "</style>\n",
       "<table border=\"1\" class=\"dataframe\">\n",
       "  <thead>\n",
       "    <tr style=\"text-align: right;\">\n",
       "      <th></th>\n",
       "      <th>engineer_id</th>\n",
       "      <th>hours_taken</th>\n",
       "    </tr>\n",
       "  </thead>\n",
       "  <tbody>\n",
       "    <tr>\n",
       "      <th>0</th>\n",
       "      <td>0</td>\n",
       "      <td>4.356031</td>\n",
       "    </tr>\n",
       "    <tr>\n",
       "      <th>1</th>\n",
       "      <td>1</td>\n",
       "      <td>1.042782</td>\n",
       "    </tr>\n",
       "    <tr>\n",
       "      <th>2</th>\n",
       "      <td>2</td>\n",
       "      <td>2.693364</td>\n",
       "    </tr>\n",
       "    <tr>\n",
       "      <th>3</th>\n",
       "      <td>3</td>\n",
       "      <td>3.563829</td>\n",
       "    </tr>\n",
       "    <tr>\n",
       "      <th>4</th>\n",
       "      <td>4</td>\n",
       "      <td>3.250465</td>\n",
       "    </tr>\n",
       "  </tbody>\n",
       "</table>\n",
       "</div>"
      ],
      "text/plain": [
       "   engineer_id  hours_taken\n",
       "0            0     4.356031\n",
       "1            1     1.042782\n",
       "2            2     2.693364\n",
       "3            3     3.563829\n",
       "4            4     3.250465"
      ]
     },
     "execution_count": 2,
     "metadata": {},
     "output_type": "execute_result"
    }
   ],
   "source": [
    "\n",
    "def gen_data(n_engineers, mean_hours=3, std_hours=1):\n",
    "\n",
    "    # Generate engineer IDs\n",
    "    engineer_ids = [i for i in range(n_engineers)]\n",
    "\n",
    "    # Generate normally-distributed hours worked\n",
    "    hours_taken = np.random.normal(mean_hours, std_hours, n_engineers)\n",
    "\n",
    "    # Create DataFrame\n",
    "    df = pd.DataFrame({\n",
    "        'engineer_id': engineer_ids,\n",
    "        'hours_taken': hours_taken\n",
    "    })\n",
    "\n",
    "    return df\n",
    "\n",
    "\n",
    "control_data = gen_data(100, mean_hours=3, std_hours=1)\n",
    "treatment_data = gen_data(100, mean_hours=2.7, std_hours=0.8)\n",
    "\n",
    "\n",
    "control_data.head()"
   ]
  },
  {
   "cell_type": "code",
   "execution_count": 3,
   "metadata": {},
   "outputs": [
    {
     "ename": "NameError",
     "evalue": "name 'sm' is not defined",
     "output_type": "error",
     "traceback": [
      "\u001b[0;31m---------------------------------------------------------------------------\u001b[0m",
      "\u001b[0;31mNameError\u001b[0m                                 Traceback (most recent call last)",
      "\u001b[1;32m/home/azureuser/projects/bae/src/system_eval/ab.ipynb Cell 4\u001b[0m line \u001b[0;36m2\n\u001b[1;32m      <a href='vscode-notebook-cell://wsl%2Bubuntu/home/azureuser/projects/bae/src/system_eval/ab.ipynb#W3sdnNjb2RlLXJlbW90ZQ%3D%3D?line=0'>1</a>\u001b[0m \u001b[39m#create Q-Q plot with 45-degree line added to plot\u001b[39;00m\n\u001b[0;32m----> <a href='vscode-notebook-cell://wsl%2Bubuntu/home/azureuser/projects/bae/src/system_eval/ab.ipynb#W3sdnNjb2RlLXJlbW90ZQ%3D%3D?line=1'>2</a>\u001b[0m fig \u001b[39m=\u001b[39m sm\u001b[39m.\u001b[39mqqplot(control_data[\u001b[39m'\u001b[39m\u001b[39mhours_taken\u001b[39m\u001b[39m'\u001b[39m] \u001b[39m-\u001b[39m control_data[\u001b[39m'\u001b[39m\u001b[39mhours_taken\u001b[39m\u001b[39m'\u001b[39m]\u001b[39m.\u001b[39mmean(), line\u001b[39m=\u001b[39m\u001b[39m'\u001b[39m\u001b[39m45\u001b[39m\u001b[39m'\u001b[39m)\n\u001b[1;32m      <a href='vscode-notebook-cell://wsl%2Bubuntu/home/azureuser/projects/bae/src/system_eval/ab.ipynb#W3sdnNjb2RlLXJlbW90ZQ%3D%3D?line=2'>3</a>\u001b[0m plt\u001b[39m.\u001b[39mshow()\n",
      "\u001b[0;31mNameError\u001b[0m: name 'sm' is not defined"
     ]
    }
   ],
   "source": [
    "#create Q-Q plot with 45-degree line added to plot\n",
    "fig = sm.qqplot(control_data['hours_taken'] - control_data['hours_taken'].mean(), line='45')\n",
    "plt.show()"
   ]
  },
  {
   "cell_type": "code",
   "execution_count": 4,
   "metadata": {},
   "outputs": [
    {
     "name": "stdout",
     "output_type": "stream",
     "text": [
      "Control Group Mean Hours: 3.086443307041768\n",
      "Treatment Group Mean Hours: 2.7143872718186723\n"
     ]
    }
   ],
   "source": [
    "# Calculate basic statistics\n",
    "control_mean = control_data['hours_taken'].mean()\n",
    "treatment_mean = treatment_data['hours_taken'].mean()\n",
    "\n",
    "print(f'Control Group Mean Hours: {control_mean}')\n",
    "print(f'Treatment Group Mean Hours: {treatment_mean}')"
   ]
  },
  {
   "cell_type": "code",
   "execution_count": 12,
   "metadata": {},
   "outputs": [
    {
     "data": {
      "image/png": "[encoded data removed]",
      "text/plain": [
       "<Figure size 640x480 with 1 Axes>"
      ]
     },
     "metadata": {},
     "output_type": "display_data"
    }
   ],
   "source": [
    "import statsmodels.api as sm\n",
    "import matplotlib.pyplot as plt\n",
    "\n",
    "#create Q-Q plot with 45-degree line added to plot\n",
    "fig = sm.qqplot(treatment_data['hours_taken'] - treatment_mean, line='45')\n",
    "plt.show()\n",
    "\n"
   ]
  },
  {
   "cell_type": "markdown",
   "metadata": {},
   "source": [
    "### Box cox transformation to normalize data"
   ]
  },
  {
   "cell_type": "code",
   "execution_count": 13,
   "metadata": {},
   "outputs": [
    {
     "data": {
      "image/png": "[encoded data removed]",
      "text/plain": [
       "<Figure size 640x480 with 1 Axes>"
      ]
     },
     "metadata": {},
     "output_type": "display_data"
    }
   ],
   "source": [
    "from scipy import stats\n",
    "\n",
    "xt, _ = stats.boxcox(treatment_data['hours_taken'])\n",
    "#create Q-Q plot with 45-degree line added to plot\n",
    "fig = sm.qqplot(xt - xt.mean(), line='45')\n",
    "plt.show()"
   ]
  },
  {
   "cell_type": "markdown",
   "metadata": {},
   "source": [
    "## T-test for an A/b Test"
   ]
  },
  {
   "cell_type": "code",
   "execution_count": 5,
   "metadata": {},
   "outputs": [
    {
     "name": "stdout",
     "output_type": "stream",
     "text": [
      "T-Statistic: 2.8648127755484127\n",
      "P-Value: 0.004624258680027422\n"
     ]
    }
   ],
   "source": [
    "# Perform t-test  using scipy.stats\n",
    "t_stat, p_value = stats.ttest_ind(control_data['hours_taken'], treatment_data['hours_taken'], equal_var=False)\n",
    "\n",
    "# Display results\n",
    "print(f'T-Statistic: {t_stat}')\n",
    "print(f'P-Value: {p_value}')"
   ]
  },
  {
   "cell_type": "markdown",
   "metadata": {},
   "source": [
    "Step 5: Interpret Results\n",
    "The p-value will tell you whether the change in the IR system significantly impacts the number of hours taken by maintenance engineers to find information.\n",
    "\n",
    "A small p-value (typically ≤ 0.05) indicates that you can reject the null hypothesis. This would mean the new system has a statistically significant effect on reducing the time taken.\n",
    "A large p-value (> 0.05) indicates that you fail to reject the null hypothesis, meaning no significant difference exists.\n",
    "Step 6: Make Business Decisions\n",
    "Use these statistical insights, along with other considerations like implementation costs or user satisfaction, to make a decision about whether the new system is effective and should be fully implemented.\n",
    "\n",
    "This framework gives you a good starting point for performing A/B tests focused on continuous outcomes using Python. It's important to ensure that your sample sizes are large enough to detect a meaningful difference and that you've considered other potential confounding variables that could affect the results."
   ]
  },
  {
   "cell_type": "markdown",
   "metadata": {},
   "source": [
    "## Power analysis - ensuring the sample sizes are large enough for the statistical test"
   ]
  },
  {
   "cell_type": "code",
   "execution_count": 10,
   "metadata": {},
   "outputs": [
    {
     "name": "stdout",
     "output_type": "stream",
     "text": [
      "Required sample size: 175 per group\n"
     ]
    }
   ],
   "source": [
    "from statsmodels.stats.power import TTestIndPower\n",
    "\n",
    "# Parameters\n",
    "effect_size = 0.3  # Assumed effect size based on domain knowledge or a pilot study\n",
    "alpha = 0.05  # Significance level\n",
    "power = 0.8  # Power\n",
    "\n",
    "# Perform power analysis\n",
    "analysis = TTestIndPower()\n",
    "sample_size = analysis.solve_power(effect_size=effect_size, power=power, alpha=alpha)\n",
    "print(f'Required sample size: {round(sample_size)} per group')"
   ]
  },
  {
   "cell_type": "markdown",
   "metadata": {},
   "source": [
    "### then once the experiment is done we can calculate the observed power"
   ]
  },
  {
   "cell_type": "code",
   "execution_count": 13,
   "metadata": {},
   "outputs": [
    {
     "data": {
      "text/plain": [
       "0.40514570808402744"
      ]
     },
     "execution_count": 13,
     "metadata": {},
     "output_type": "execute_result"
    }
   ],
   "source": [
    "## Measure the observed effect size\n",
    "\n",
    "# The observed effect size is a way to quantify the difference between two groups in standardized terms, and it's essential for post-hoc power analysis. For a two-sample t-test, Cohen's d is commonly used as the measure of effect size. \n",
    "\n",
    "# d = (x̄1 - x̄2) / pool standard deviation\n",
    "\n",
    "import numpy as np\n",
    "\n",
    "# Calculate sample means\n",
    "mean_control = control_data['hours_taken'].mean()\n",
    "mean_treatment = treatment_data['hours_taken'].mean()\n",
    "\n",
    "# Calculate sample standard deviations\n",
    "std_control = control_data['hours_taken'].std()\n",
    "std_treatment = treatment_data['hours_taken'].std()\n",
    "\n",
    "# Calculate sample sizes\n",
    "n_control = len(control_data)\n",
    "n_treatment = len(treatment_data)\n",
    "\n",
    "# Calculate pooled standard deviation\n",
    "std_pooled = np.sqrt(((n_control - 1) * std_control ** 2 + (n_treatment - 1) * std_treatment ** 2) / (n_control + n_treatment - 2))\n",
    "\n",
    "# Calculate Cohen's d\n",
    "observed_effect_size = (mean_control - mean_treatment) / std_pooled\n",
    "\n",
    "observed_effect_size"
   ]
  },
  {
   "cell_type": "code",
   "execution_count": 14,
   "metadata": {},
   "outputs": [
    {
     "name": "stdout",
     "output_type": "stream",
     "text": [
      "Observed power: 0.8135165452693741\n"
     ]
    }
   ],
   "source": [
    "# Assume observed_effect_size and actual_sample_size are calculated from your data\n",
    "#observed_effect_size = ...  # Replace with your value\n",
    "#actual_sample_size = ...  # Replace with your value\n",
    "\n",
    "actual_sample_size = control_data.shape[0]\n",
    "\n",
    "# Calculate observed power\n",
    "observed_power = analysis.solve_power(effect_size=observed_effect_size, nobs1=actual_sample_size, alpha=alpha)\n",
    "print(f'Observed power: {observed_power}')"
   ]
  },
  {
   "cell_type": "markdown",
   "metadata": {},
   "source": [
    "## MLE approach"
   ]
  },
  {
   "cell_type": "code",
   "execution_count": 51,
   "metadata": {},
   "outputs": [],
   "source": [
    "import pandas as pd\n",
    "import numpy as np\n",
    "from scipy.optimize import minimize\n",
    "from scipy.stats import norm"
   ]
  },
  {
   "cell_type": "code",
   "execution_count": 52,
   "metadata": {},
   "outputs": [],
   "source": [
    "def neg_log_likelihood(params, data):\n",
    "    mu, sigma = params\n",
    "    return -np.sum(norm.logpdf(data, mu, sigma))"
   ]
  },
  {
   "cell_type": "code",
   "execution_count": 59,
   "metadata": {},
   "outputs": [
    {
     "name": "stdout",
     "output_type": "stream",
     "text": [
      "Control group parameters: mu = 3.0376130439882467, sigma = 1.034631875405075\n",
      "Treatment group parameters: mu = 2.771982923167568, sigma = 0.7807140558051618\n"
     ]
    }
   ],
   "source": [
    "# Initial parameter guess [mu, sigma]\n",
    "initial_params = [3, 1]\n",
    "\n",
    "# MLE for Control Group\n",
    "result_control = minimize(neg_log_likelihood, initial_params, args=(control_data['hours_taken']))\n",
    "mu_control, sigma_control = result_control.x\n",
    "\n",
    "# MLE for Treatment Group\n",
    "result_treatment = minimize(neg_log_likelihood, initial_params, args=(treatment_data['hours_taken']))\n",
    "mu_treatment, sigma_treatment = result_treatment.x\n",
    "\n",
    "print(f'Control group parameters: mu = {mu_control}, sigma = {sigma_control}')\n",
    "print(f'Treatment group parameters: mu = {mu_treatment}, sigma = {sigma_treatment}')"
   ]
  },
  {
   "cell_type": "markdown",
   "metadata": {},
   "source": [
    "Step 4: A/B Test and Interpretation\n",
    "Now that you have estimates of the distribution parameters for both groups, you can:\n",
    "\n",
    "Simulate what the distributions should look like based on these parameters.\n",
    "Conduct hypothesis tests based on the estimated distributions.\n",
    "Calculate confidence intervals for the estimated parameters.\n",
    "Analyze how different the parameters of the two distributions are to understand the effect of the change (treatment).\n",
    "This approach allows for more nuanced analyses compared to the classical t-test, especially when the underlying distributions are not normal or when they differ in shape."
   ]
  },
  {
   "cell_type": "markdown",
   "metadata": {},
   "source": [
    "### Confidence intervals for the MLE approach"
   ]
  },
  {
   "cell_type": "code",
   "execution_count": 60,
   "metadata": {},
   "outputs": [
    {
     "name": "stdout",
     "output_type": "stream",
     "text": [
      "95% CI for mu (Control): [2.834825196408852, 3.240400891567641]\n",
      "95% CI for sigma (Control): [0.747846551073847, 1.321417199736303]\n",
      "95% CI for mu (Treatment): [2.6189629682297566, 2.9250028781053796]\n",
      "95% CI for sigma (Treatment): [0.5643111602183887, 0.997116951391935]\n"
     ]
    }
   ],
   "source": [
    "# Number of samples\n",
    "n_control = len(control_data['hours_taken'])\n",
    "n_treatment = len(treatment_data['hours_taken'])\n",
    "\n",
    "# Calculate the Fisher Information Matrix for Control and Treatment groups\n",
    "fisher_info_matrix_control = np.array([[n_control / sigma_control**2, 0], [0, n_control / (2 * sigma_control**2)]])\n",
    "fisher_info_matrix_treatment = np.array([[n_treatment / sigma_treatment**2, 0], [0, n_treatment / (2 * sigma_treatment**2)]])\n",
    "\n",
    "# Calculate the standard errors by taking the square root of the diagonal elements\n",
    "# from the inverse of the Fisher Information Matrix\n",
    "se_mu_control, se_sigma_control = np.sqrt(np.linalg.inv(fisher_info_matrix_control).diagonal())\n",
    "se_mu_treatment, se_sigma_treatment = np.sqrt(np.linalg.inv(fisher_info_matrix_treatment).diagonal())\n",
    "\n",
    "# Calculate the 95% Confidence Intervals\n",
    "conf_interval_mu_control = [mu_control - 1.96 * se_mu_control, mu_control + 1.96 * se_mu_control]\n",
    "conf_interval_sigma_control = [sigma_control - 1.96 * se_sigma_control, sigma_control + 1.96 * se_sigma_control]\n",
    "\n",
    "conf_interval_mu_treatment = [mu_treatment - 1.96 * se_mu_treatment, mu_treatment + 1.96 * se_mu_treatment]\n",
    "conf_interval_sigma_treatment = [sigma_treatment - 1.96 * se_sigma_treatment, sigma_treatment + 1.96 * se_sigma_treatment]\n",
    "\n",
    "print(f\"95% CI for mu (Control): {conf_interval_mu_control}\")\n",
    "print(f\"95% CI for sigma (Control): {conf_interval_sigma_control}\")\n",
    "print(f\"95% CI for mu (Treatment): {conf_interval_mu_treatment}\")\n",
    "print(f\"95% CI for sigma (Treatment): {conf_interval_sigma_treatment}\")"
   ]
  },
  {
   "cell_type": "markdown",
   "metadata": {},
   "source": [
    "### compare confidence intervals of means"
   ]
  },
  {
   "cell_type": "code",
   "execution_count": 63,
   "metadata": {},
   "outputs": [
    {
     "name": "stdout",
     "output_type": "stream",
     "text": [
      "Group1 CI: [2.833807349633719, 3.2414187719038483]\n",
      "Group2 CI: [2.6181949036478027, 2.925770935544194]\n"
     ]
    }
   ],
   "source": [
    "from scipy import stats\n",
    "import numpy as np\n",
    "\n",
    "# Generate synthetic data\n",
    "np.random.seed(0)\n",
    "group1 = control_data['hours_taken']  # np.random.normal(50, 10, 100)  # control group\n",
    "group2 = treatment_data['hours_taken']  # np.random.normal(55, 10, 100)  # treatment group\n",
    "\n",
    "# Calculate the means and standard deviations\n",
    "mean1, mean2 = np.mean(group1), np.mean(group2)\n",
    "std1, std2 = np.std(group1, ddof=1), np.std(group2, ddof=1)\n",
    "\n",
    "# Sample sizes\n",
    "n1, n2 = len(group1), len(group2)\n",
    "\n",
    "# Calculate standard errors\n",
    "se1, se2 = std1 / np.sqrt(n1), std2 / np.sqrt(n2)\n",
    "\n",
    "# Z-score for 95% confidence\n",
    "z_score = stats.norm.ppf(0.975)\n",
    "\n",
    "# Confidence intervals\n",
    "ci1 = [mean1 - z_score * se1, mean1 + z_score * se1]\n",
    "ci2 = [mean2 - z_score * se2, mean2 + z_score * se2]\n",
    "\n",
    "print(f\"Group1 CI: {ci1}\")\n",
    "print(f\"Group2 CI: {ci2}\")"
   ]
  },
  {
   "cell_type": "markdown",
   "metadata": {},
   "source": [
    "# Bootstrap"
   ]
  },
  {
   "cell_type": "markdown",
   "metadata": {},
   "source": [
    "Using Bootstrap to Calculate Confidence Intervals and compare two groups. Can be used when the data is not normally distributed."
   ]
  },
  {
   "cell_type": "code",
   "execution_count": 19,
   "metadata": {},
   "outputs": [
    {
     "name": "stdout",
     "output_type": "stream",
     "text": [
      "Group1 CI: [1. 1.]\n",
      "Group2 CI: [0. 0.]\n"
     ]
    }
   ],
   "source": [
    "import numpy as np\n",
    "\n",
    "# Generate synthetic data\n",
    "np.random.seed(0)\n",
    "\n",
    "group1 = control_data['hours_taken']  \n",
    "group2 = treatment_data['hours_taken']  \n",
    "\n",
    "# Bootstrapping\n",
    "n_iterations = 1000\n",
    "bootstrap_means1 = np.zeros(n_iterations)\n",
    "bootstrap_means2 = np.zeros(n_iterations)\n",
    "\n",
    "for i in range(n_iterations):\n",
    "    bootstrap_sample1 = np.random.choice(group1, size=len(group1), replace=True)\n",
    "    bootstrap_sample2 = np.random.choice(group2, size=len(group2), replace=True)\n",
    "    bootstrap_means1[i] = np.mean(bootstrap_sample1)\n",
    "    bootstrap_means2[i] = np.mean(bootstrap_sample2)\n",
    "\n",
    "# Confidence intervals\n",
    "ci1 = np.percentile(bootstrap_means1, [2.5, 97.5])\n",
    "ci2 = np.percentile(bootstrap_means2, [2.5, 97.5])\n",
    "\n",
    "print(f\"Group1 CI: {ci1}\")\n",
    "print(f\"Group2 CI: {ci2}\")"
   ]
  },
  {
   "cell_type": "code",
   "execution_count": null,
   "metadata": {},
   "outputs": [],
   "source": [
    "alpha and beta -- plot to show significance for the t-test\n",
    "    \n",
    "    for improvement in accuracy of score of exam we see decrease in confidence interval (less variance) and the location to be lower (less time spent)\n",
    "\n"
   ]
  }
 ],
 "metadata": {
  "kernelspec": {
   "display_name": "pyt",
   "language": "python",
   "name": "python3"
  },
  "language_info": {
   "codemirror_mode": {
    "name": "ipython",
    "version": 3
   },
   "file_extension": ".py",
   "mimetype": "text/x-python",
   "name": "python",
   "nbconvert_exporter": "python",
   "pygments_lexer": "ipython3",
   "version": "3.9.13"
  },
  "orig_nbformat": 4
 },
 "nbformat": 4,
 "nbformat_minor": 2
}
