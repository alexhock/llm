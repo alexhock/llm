{
 "cells": [
  {
   "cell_type": "markdown",
   "metadata": {},
   "source": [
    "# Hopkins Test "
   ]
  },
  {
   "cell_type": "markdown",
   "metadata": {},
   "source": [
    "## Code"
   ]
  },
  {
   "cell_type": "code",
   "execution_count": null,
   "metadata": {},
   "outputs": [],
   "source": [
    "import numpy as np\n",
    "from numpy.random import random\n",
    "from sklearn.datasets import make_blobs\n",
    "from scipy.spatial import KDTree\n",
    "from scipy.stats import poisson\n",
    "from sklearn.neighbors import NearestNeighbors\n",
    "import itertools\n",
    "\n",
    "\n",
    "np.random.seed(42)\n",
    "\n",
    "\n",
    "def hopkins_statistic(X, N):\n",
    "    \n",
    "    #n = len(X)  # number of samples\n",
    "    m = int(0.1 * N)  # use 10% of points as random points\n",
    "    random_points = np.random.uniform(X.min(), X.max(), size=(N, X.shape[1]))\n",
    "    nbrs = NearestNeighbors(n_neighbors=2).fit(X)\n",
    "    _, distances_random_point = nbrs.kneighbors(random_points, n_neighbors=1)\n",
    "\n",
    "    random_indices = np.random.choice(N, size=m, replace=False)\n",
    "    random_real_points = X[random_indices]\n",
    "\n",
    "    _, distances_real_point = nbrs.kneighbors(random_real_points, n_neighbors=2)\n",
    "    \n",
    "    distances_real_point = distances_real_point[:, 1]\n",
    "    H = np.sum(distances_real_point) / (np.sum(distances_random_point) + np.sum(distances_real_point))\n",
    "    \n",
    "    return H\n",
    "\n",
    "\n",
    "def hopkins_skellen_2d(X, area_width, area_height, N):\n",
    "    tree = KDTree(X)\n",
    "    distances, indices = tree.query(X, k=2)\n",
    "    s_dist_squared = sum([x**2 for x in distances[:,1]])\n",
    "\n",
    "    random_points = [(area_width*random(), area_height*random()) for _ in range(N)]\n",
    "    X_rnd = np.array(random_points)\n",
    "\n",
    "    distances, indices = tree.query(X_rnd, k=1)\n",
    "    r_dist_squared = sum([x**2 for x in distances])\n",
    "    H = r_dist_squared/s_dist_squared\n",
    "    return H\n",
    "\n",
    "\n",
    "def hopkins_skellen_nd(X, N):\n",
    "    tree = KDTree(X)\n",
    "\n",
    "    # Calculate the nearest neighbor distances on actual data\n",
    "    distances, indices = tree.query(X, k=2)\n",
    "    s_dist_squared = sum([x**2 for x in distances[:,1]])\n",
    "\n",
    "    # Generate random points\n",
    "    random_points = np.random.uniform(X.min(), X.max(), size=(N, X.shape[1]))\n",
    "    X_rnd = np.array(random_points)\n",
    "    distances, indices = tree.query(X_rnd, k=1)\n",
    "    r_dist_squared = sum([x**2 for x in distances])\n",
    "\n",
    "    H = r_dist_squared/s_dist_squared\n",
    "    return H\n",
    "\n",
    "\n",
    "def simulate_hopkins_distribution(original_data, N, iterations=1000):\n",
    "    empirical_H_values = []\n",
    "    for _ in range(iterations):\n",
    "        # Generate random dataset\n",
    "        random_data = np.random.uniform(low=original_data.min(), high=original_data.max(), size=original_data.shape)\n",
    "        # Calculate H for random dataset\n",
    "        #H = hopkins_statistic(random_data, N)\n",
    "        H = hopkins_skellen_nd(random_data, N)\n",
    "        empirical_H_values.append(H)\n",
    "    return np.array(empirical_H_values)\n",
    "\n",
    "\n",
    "def create_spatially_smooth_data(num_rows, num_dims, repeat):\n",
    "    \"\"\"\n",
    "    Create a list of lists where each inner list represents a point in a num_dims-dimensional space.\n",
    "    Each dimension value ranges from 0 to num_rows-1, incremented by 'repeat'.\n",
    "\n",
    "    Parameters:\n",
    "    - num_dims: int, number of dimensions\n",
    "    - num_rows: int, maximum size of each dimension\n",
    "    - repeat: int, increment between each value in each dimension\n",
    "\n",
    "    Returns:\n",
    "    - list of lists: each sub-list represents a coordinate in the multidimensional space\n",
    "    \"\"\"\n",
    "    # Generate a range for each dimension\n",
    "    range_list = [range(0, num_rows, repeat) for _ in range(num_dims)]\n",
    "    \n",
    "    # Use itertools.product to generate all combinations of the ranges\n",
    "    all_combinations = list(itertools.product(*range_list))\n",
    "    \n",
    "    return np.array(all_combinations)\n",
    "\n",
    "\n",
    "def create_clustered_data(num_rows=20, num_dims=2, num_clusters=5, cluster_std=1):\n",
    "\n",
    "    # Generate isotropic Gaussian blobs\n",
    "    X, y = make_blobs(\n",
    "        n_samples=num_rows, \n",
    "        n_features=num_dims, \n",
    "        centers=num_clusters, \n",
    "        cluster_std=cluster_std, \n",
    "        random_state=42\n",
    "    )\n",
    "    \n",
    "    return X, y\n",
    "\n",
    "def calculate_n(dimensions, density=0.1):\n",
    "    \"\"\"\n",
    "    Calculate the number of points for an n-dimensional Poisson process.\n",
    "\n",
    "    Parameters:\n",
    "    - dimensions: list or tuple of int, the sizes of each dimension (e.g., [width, height, depth])\n",
    "    - density: float, the density of points per unit volume.\n",
    "\n",
    "    Returns:\n",
    "    - int: number of points (N) to generate based on the Poisson distribution.\n",
    "    \"\"\"\n",
    "    # Calculate the volume of the n-dimensional space\n",
    "    V = np.prod(dimensions)  # Product of elements in dimensions list\n",
    "\n",
    "    # Calculate the Poisson parameter (λ = Volume * Density)\n",
    "    poisson_parameter = V * density\n",
    "\n",
    "    # Generate a random number and calculate N\n",
    "    u = random()\n",
    "    N = int(poisson.ppf(u, poisson_parameter))\n",
    "\n",
    "    return N\n"
   ]
  },
  {
   "cell_type": "markdown",
   "metadata": {},
   "source": [
    "Smooth data"
   ]
  },
  {
   "cell_type": "code",
   "execution_count": null,
   "metadata": {},
   "outputs": [
    {
     "name": "stdout",
     "output_type": "stream",
     "text": [
      "Number of points (N): 48\n",
      "smooth data shape:  (3125, 5)\n",
      "Hopkins-skellen statistic (5D): 0.006448481927225633\n",
      "H-statistic: 0.00152795571279134\n"
     ]
    }
   ],
   "source": [
    "shape = [100, 5]\n",
    "repeat = 20\n",
    "area_width = shape[0]\n",
    "area_height = shape[0]\n",
    "\n",
    "N = calculate_n(shape)\n",
    "print(\"Number of points (N):\", N)\n",
    "\n",
    "# create smooth data\n",
    "smooth_data = create_spatially_smooth_data(shape[0], shape[1], repeat=repeat)\n",
    "print(\"smooth data shape: \", smooth_data.shape)\n",
    "\n",
    "if shape[1] == 2:\n",
    "    h2d = hopkins_skellen_2d(smooth_data, area_width, area_height, N)\n",
    "    print(\"Hopkins-skellen statistic (2D):\", h2d)\n",
    "hnd = hopkins_skellen_nd(smooth_data, N)\n",
    "print(\"Hopkins-skellen statistic ({}D):\".format(shape[1]), hnd)\n",
    "\n",
    "smooth_H = hopkins_statistic(smooth_data, N)\n",
    "print(f\"H-statistic: {smooth_H}\")\n"
   ]
  },
  {
   "cell_type": "markdown",
   "metadata": {},
   "source": [
    "Clustered data"
   ]
  },
  {
   "cell_type": "code",
   "execution_count": null,
   "metadata": {},
   "outputs": [
    {
     "name": "stdout",
     "output_type": "stream",
     "text": [
      "Hopkins-skellen statistic (5D): 30.007109244179446\n",
      "H-statistic: 0.050213675213675216\n"
     ]
    }
   ],
   "source": [
    "clustered_data, y = create_clustered_data(num_rows=shape[0], num_dims=shape[1], num_clusters=5, cluster_std=1)\n",
    "\n",
    "if shape[1] == 2:\n",
    "    h2d = hopkins_skellen_2d(clustered_data, area_width, area_height, N)\n",
    "    print(\"Hopkins-skellen statistic (2D):\", h2d)\n",
    "hnd = hopkins_skellen_nd(clustered_data, N)\n",
    "print(\"Hopkins-skellen statistic ({}D):\".format(shape[1]), hnd)\n",
    "\n",
    "smooth_H = hopkins_statistic(clustered_data, N)\n",
    "print(f\"H-statistic: {smooth_H}\")\n"
   ]
  },
  {
   "cell_type": "markdown",
   "metadata": {},
   "source": [
    "## Compare the Hopkins statistic for smooth and clustered data"
   ]
  },
  {
   "cell_type": "code",
   "execution_count": null,
   "metadata": {},
   "outputs": [],
   "source": [
    "#original_data = clustered_data  \n",
    "original_data = smooth_data"
   ]
  },
  {
   "cell_type": "code",
   "execution_count": null,
   "metadata": {},
   "outputs": [
    {
     "name": "stdout",
     "output_type": "stream",
     "text": [
      "Original H: 0.006046984150226116\n",
      "Mean of simulated H values: 0.015347748029290741\n"
     ]
    }
   ],
   "source": [
    "\n",
    "# Assuming `original_data` is your dataset\n",
    "#original_data = np.random.rand(100, 4)  # Example: 100 points in 2D\n",
    "original_H = hopkins_skellen_nd(original_data, N)\n",
    "empirical_distribution = simulate_hopkins_distribution(original_data, N, iterations=1000)\n",
    "\n",
    "# Analyze the result\n",
    "print(f\"Original H: {original_H}\")\n",
    "print(f\"Mean of simulated H values: {np.mean(empirical_distribution)}\")\n",
    "# You can also plot the distribution or calculate percentiles to analyze further"
   ]
  },
  {
   "cell_type": "code",
   "execution_count": null,
   "metadata": {},
   "outputs": [
    {
     "data": {
      "image/png": "[encoded data removed]",
      "text/plain": [
       "<Figure size 640x480 with 1 Axes>"
      ]
     },
     "metadata": {},
     "output_type": "display_data"
    },
    {
     "name": "stdout",
     "output_type": "stream",
     "text": [
      "5th Percentile: 0.34379982469383286\n",
      "25th Percentile: 0.3821376975878886\n",
      "50th Percentile: 0.41176349745783963\n",
      "75th Percentile: 0.44126901098463667\n",
      "95th Percentile: 0.4903146239729324\n",
      "Original dataset's H percentile rank: 100.0\n"
     ]
    }
   ],
   "source": [
    "import matplotlib.pyplot as plt\n",
    "import numpy as np\n",
    "\n",
    "# Assuming `empirical_distribution` contains your simulated Hopkins statistics\n",
    "# and `original_H` is the Hopkins statistic for your original dataset\n",
    "\n",
    "# Plot the distribution of the simulated Hopkins statistics\n",
    "plt.hist(empirical_distribution, bins=30, alpha=0.75, color='blue', edgecolor='black')\n",
    "plt.axvline(original_H, color='red', linestyle='dashed', linewidth=2)\n",
    "plt.title('Distribution of Simulated Hopkins Statistics')\n",
    "plt.xlabel('Hopkins Statistic')\n",
    "plt.ylabel('Frequency')\n",
    "plt.legend(['Real data H', 'Random data H'])\n",
    "plt.show()\n",
    "\n",
    "# Calculate and print percentiles\n",
    "percentiles = [5, 25, 50, 75, 95]\n",
    "for p in percentiles:\n",
    "    value = np.percentile(empirical_distribution, p)\n",
    "    print(f\"{p}th Percentile: {value}\")\n",
    "\n",
    "# Assess where the original dataset's H stands\n",
    "percentile_rank = (np.sum(empirical_distribution < original_H) / len(empirical_distribution)) * 100\n",
    "print(f\"Original dataset's H percentile rank: {percentile_rank}\")\n"
   ]
  },
  {
   "cell_type": "code",
   "execution_count": null,
   "metadata": {},
   "outputs": [
    {
     "data": {
      "image/png": "[encoded data removed]",
      "text/plain": [
       "<Figure size 640x480 with 1 Axes>"
      ]
     },
     "metadata": {},
     "output_type": "display_data"
    },
    {
     "name": "stdout",
     "output_type": "stream",
     "text": [
      "5th Percentile: 0.013538661095305\n",
      "25th Percentile: 0.014614558272209052\n",
      "50th Percentile: 0.015347045089573075\n",
      "75th Percentile: 0.016071977970928734\n",
      "95th Percentile: 0.017321997780348337\n",
      "Original dataset's H percentile rank: 0.0\n"
     ]
    }
   ],
   "source": [
    "import matplotlib.pyplot as plt\n",
    "import numpy as np\n",
    "\n",
    "# Assuming `empirical_distribution` contains your simulated Hopkins statistics\n",
    "# and `original_H` is the Hopkins statistic for your original dataset\n",
    "\n",
    "# Plot the distribution of the simulated Hopkins statistics\n",
    "plt.hist(empirical_distribution, bins=30, alpha=0.75, color='blue', edgecolor='black')\n",
    "plt.axvline(original_H, color='red', linestyle='dashed', linewidth=2)\n",
    "plt.title('Distribution of Simulated Hopkins Statistics')\n",
    "plt.xlabel('Hopkins Statistic')\n",
    "plt.ylabel('Frequency')\n",
    "plt.legend(['Real data H', 'Random data H'])\n",
    "plt.show()\n",
    "\n",
    "# Calculate and print percentiles\n",
    "percentiles = [5, 25, 50, 75, 95]\n",
    "for p in percentiles:\n",
    "    value = np.percentile(empirical_distribution, p)\n",
    "    print(f\"{p}th Percentile: {value}\")\n",
    "\n",
    "# Assess where the original dataset's H stands\n",
    "percentile_rank = (np.sum(empirical_distribution < original_H) / len(empirical_distribution)) * 100\n",
    "print(f\"Original dataset's H percentile rank: {percentile_rank}\")\n"
   ]
  }
 ],
 "metadata": {
  "language_info": {
   "name": "python"
  }
 },
 "nbformat": 4,
 "nbformat_minor": 2
}
