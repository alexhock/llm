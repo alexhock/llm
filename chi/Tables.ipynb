{
 "cells": [
  {
   "cell_type": "code",
   "execution_count": 1,
   "id": "2095ec2c-4927-41da-b3be-8f46e1142672",
   "metadata": {},
   "outputs": [],
   "source": [
    "# extract tables and rag llamaindex"
   ]
  },
  {
   "cell_type": "code",
   "execution_count": null,
   "id": "13d7f70f-f81d-4e0f-bbe2-b47a5cf6b649",
   "metadata": {},
   "outputs": [],
   "source": [
    "https://docs.llamaindex.ai/en/v0.9.48/examples/multi_modal/multi_modal_pdf_tables.html"
   ]
  },
  {
   "cell_type": "code",
   "execution_count": null,
   "id": "14a5030b-2e4c-4d8a-9a8c-b730416fe46a",
   "metadata": {},
   "outputs": [],
   "source": []
  },
  {
   "cell_type": "code",
   "execution_count": null,
   "id": "3e1c0a2e-ffd5-409d-ae79-f473db3a6430",
   "metadata": {},
   "outputs": [],
   "source": []
  }
 ],
 "metadata": {
  "kernelspec": {
   "display_name": "Python 3 (ipykernel)",
   "language": "python",
   "name": "python3"
  },
  "language_info": {
   "codemirror_mode": {
    "name": "ipython",
    "version": 3
   },
   "file_extension": ".py",
   "mimetype": "text/x-python",
   "name": "python",
   "nbconvert_exporter": "python",
   "pygments_lexer": "ipython3",
   "version": "3.10.13"
  }
 },
 "nbformat": 4,
 "nbformat_minor": 5
}
