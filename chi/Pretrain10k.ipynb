{
 "cells": [
  {
   "cell_type": "code",
   "execution_count": null,
   "id": "8ad68bac-50f5-4a26-bb3a-cf7527f84016",
   "metadata": {},
   "outputs": [],
   "source": [
    "# pretrain"
   ]
  },
  {
   "cell_type": "code",
   "execution_count": null,
   "id": "ff3c7ac2-ef24-4304-bde3-c1df25f2634d",
   "metadata": {},
   "outputs": [],
   "source": [
    "https://colab.research.google.com/gist/virattt/9b1050fd8326de258fafe0c4dc8ce575/pretrain-gpt-10ks.ipynb#scrollTo=n7ny_Rn-l891&uniqifier=1"
   ]
  },
  {
   "cell_type": "code",
   "execution_count": null,
   "id": "f8e85c46-7d14-4156-8081-fe7a65da09d0",
   "metadata": {},
   "outputs": [],
   "source": []
  }
 ],
 "metadata": {
  "kernelspec": {
   "display_name": "Python 3 (ipykernel)",
   "language": "python",
   "name": "python3"
  },
  "language_info": {
   "codemirror_mode": {
    "name": "ipython",
    "version": 3
   },
   "file_extension": ".py",
   "mimetype": "text/x-python",
   "name": "python",
   "nbconvert_exporter": "python",
   "pygments_lexer": "ipython3",
   "version": "3.10.13"
  }
 },
 "nbformat": 4,
 "nbformat_minor": 5
}
