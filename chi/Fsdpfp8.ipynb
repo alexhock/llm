{
 "cells": [
  {
   "cell_type": "code",
   "execution_count": null,
   "id": "589e0ef7-b1c6-452f-b9f4-a8554b90e359",
   "metadata": {},
   "outputs": [],
   "source": [
    "# fsdp fp8 "
   ]
  },
  {
   "cell_type": "code",
   "execution_count": null,
   "id": "ba236962-b832-46c9-a10c-10a256d067c1",
   "metadata": {},
   "outputs": [],
   "source": [
    "https://github.com/pytorch/examples/tree/main/distributed/FSDP"
   ]
  },
  {
   "cell_type": "code",
   "execution_count": null,
   "id": "a13d96ad-73e5-4811-b3c7-e67fc2a6e5da",
   "metadata": {},
   "outputs": [],
   "source": [
    "https://www.databricks.com/blog/turbocharged-training-optimizing-databricks-mosaic-ai-stack-fp8"
   ]
  }
 ],
 "metadata": {
  "kernelspec": {
   "display_name": "Python 3 (ipykernel)",
   "language": "python",
   "name": "python3"
  },
  "language_info": {
   "codemirror_mode": {
    "name": "ipython",
    "version": 3
   },
   "file_extension": ".py",
   "mimetype": "text/x-python",
   "name": "python",
   "nbconvert_exporter": "python",
   "pygments_lexer": "ipython3",
   "version": "3.10.13"
  }
 },
 "nbformat": 4,
 "nbformat_minor": 5
}
