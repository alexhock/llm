{
 "cells": [
  {
   "cell_type": "code",
   "execution_count": null,
   "id": "232a7074-09bc-4eaa-9068-e86b027338a2",
   "metadata": {},
   "outputs": [],
   "source": [
    "# sft"
   ]
  },
  {
   "cell_type": "code",
   "execution_count": null,
   "id": "8ee05cd5-90c8-4a37-8fe7-0da439b7adb1",
   "metadata": {},
   "outputs": [],
   "source": [
    "use qa with q and a with same text as doc"
   ]
  },
  {
   "cell_type": "code",
   "execution_count": null,
   "id": "caac7974-701c-453a-85ea-3e05e24f5459",
   "metadata": {},
   "outputs": [],
   "source": []
  }
 ],
 "metadata": {
  "kernelspec": {
   "display_name": "Python 3 (ipykernel)",
   "language": "python",
   "name": "python3"
  },
  "language_info": {
   "codemirror_mode": {
    "name": "ipython",
    "version": 3
   },
   "file_extension": ".py",
   "mimetype": "text/x-python",
   "name": "python",
   "nbconvert_exporter": "python",
   "pygments_lexer": "ipython3",
   "version": "3.10.13"
  }
 },
 "nbformat": 4,
 "nbformat_minor": 5
}
