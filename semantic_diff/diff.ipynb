{
 "cells": [
  {
   "cell_type": "markdown",
   "metadata": {},
   "source": [
    "# Semantic Diff"
   ]
  },
  {
   "cell_type": "code",
   "execution_count": 2,
   "metadata": {},
   "outputs": [],
   "source": [
    "import os\n",
    "import asyncio\n",
    "from openai import AsyncAzureOpenAI"
   ]
  },
  {
   "cell_type": "code",
   "execution_count": 20,
   "metadata": {},
   "outputs": [],
   "source": [
    "os.environ[\"AZURE_OPENAI_API_KEY\"] = \"\"\n",
    "os.environ[\"OPENAI_API_VERSION\"] = \"2023-05-15\"\n",
    "os.environ[\"AZURE_OPENAI_ENDPOINT\"] = \"\""
   ]
  },
  {
   "cell_type": "code",
   "execution_count": 47,
   "metadata": {},
   "outputs": [],
   "source": [
    "import asyncio\n",
    "from collections.abc import Callable\n",
    "import logging\n",
    "import os\n",
    "import random\n",
    "from datetime import datetime\n",
    "from tenacity import (\n",
    "    retry,\n",
    "    stop_after_attempt,\n",
    "    wait_random_exponential,\n",
    ")  # for exponential backoff\n",
    "\n",
    "\n",
    "class APICaller:\n",
    "\n",
    "    def __init__(self, num_concurrent: int, api_func: Callable):\n",
    "        self.api_func = api_func\n",
    "        self.num_concurrent = num_concurrent\n",
    "        self.call_timing = []\n",
    "\n",
    "    def get_url(self):\n",
    "        return random.choice(self.urls)\n",
    "\n",
    "    @retry(wait=wait_random_exponential(min=1, max=60), stop=stop_after_attempt(6))\n",
    "    async def call_api(self, idx: int, messages: dict, semaphore: asyncio.Semaphore):\n",
    "        try: \n",
    "            async with semaphore:  # Acquire a semaphore slot before making the API call, this throttles the concurrency\n",
    "                start = datetime.now()\n",
    "                result = await self.api_func(idx, messages)\n",
    "                #if 'usage' in result:\n",
    "                #    self.usage += result['usage']['total_tokens']\n",
    "        except Exception as e:\n",
    "            logging.error(\"API call failed for %s: %s\", messages, e)\n",
    "            raise e\n",
    "            #return None\n",
    "        finally:\n",
    "            duration = (datetime.now() - start).total_seconds()\n",
    "            self.call_timing.append(duration)\n",
    "            if idx % 20 == 0:\n",
    "                logging.info(\"Call %s completed in %s seconds\", idx, duration)\n",
    "\n",
    "        return result\n",
    "\n",
    "    async def send(self, requests):\n",
    "        semaphore = asyncio.Semaphore(self.num_concurrent)  \n",
    "        tasks = []\n",
    "        for idx, item in enumerate(requests):\n",
    "            task = asyncio.create_task(self.call_api(idx, item, semaphore))\n",
    "            tasks.append(task)\n",
    "        return await asyncio.gather(*tasks, return_exceptions=True)\n",
    "\n",
    "\n",
    "async def ask_llm(idx, messages, model=\"gpt-4-32k\", max_tokens=256):\n",
    "\n",
    "    response = None\n",
    "    client = AsyncAzureOpenAI(  \n",
    "        api_key = os.getenv(\"AZURE_OPENAI_API_KEY\"),  \n",
    "        api_version = os.getenv(\"OPENAI_API_VERSION\"),\n",
    "        azure_endpoint = os.getenv(\"AZURE_OPENAI_ENDPOINT\")\n",
    "    )\n",
    "    response = await client.chat.completions.create(\n",
    "        model=model, \n",
    "        messages=messages, \n",
    "        max_tokens=max_tokens\n",
    "    )\n",
    "\n",
    "    return (idx, response)\n",
    "\n",
    "\n",
    "async def get_embeddings(idx, text, model=\"text-embedding-ada-002\", max_tokens=4096):\n",
    "\n",
    "    client = AsyncAzureOpenAI(  \n",
    "        api_key = os.getenv(\"AZURE_OPENAI_API_KEY\"),  \n",
    "        api_version = os.getenv(\"OPENAI_API_VERSION\"),\n",
    "        azure_endpoint = os.getenv(\"AZURE_OPENAI_ENDPOINT\")\n",
    "    )\n",
    "    response = await client.embeddings.create(\n",
    "        model=model,\n",
    "        input=text\n",
    "    )\n",
    "\n",
    "    return (idx, response)\n"
   ]
  },
  {
   "cell_type": "code",
   "execution_count": 146,
   "metadata": {},
   "outputs": [],
   "source": [
    "\n",
    "def get_facts_prompt(text):\n",
    "    prompt = f\"\"\"Take the following text and output any statements or facts contained in the paragraph and provide the source text for each statement or fact: \\r\\n\\rn{text}\\r\\nOutput the json in the form [{{\"fact\": \"\", \"source_text: \"\"}}, {{\"fact\": \"\", \"source_text: \"\"}}, etc.]\"\"\"\n",
    "    messages = [\n",
    "        {\"role\": \"system\", \"content\": \"Extract facts and related source text\"},\n",
    "        {\"role\": \"user\", \"content\": prompt},\n",
    "    ]\n",
    "    return messages\n",
    "\n",
    "\n",
    "def get_fact_relevance(text, source_text):\n",
    "    prompt = f\"\"\"Is the following statement consistent with the source text? and please output the relevant section of the source text:\\r\\n\\r\\nStatement: {text}\\r\\n\\r\\nSource Text: {source_text}\\r\\n Output the result in json: {{\"consistent\": true/false, \"relevant_text\": \"\"}}\"\"\"\n",
    "    messages = [\n",
    "        {\"role\": \"system\", \"content\": \"Check fact relevance\"},\n",
    "        {\"role\": \"user\", \"content\": prompt},\n",
    "    ]\n",
    "    return messages\n",
    "\n",
    "\n",
    "def get_diff_prompt(text1, text2):\n",
    "    \n",
    "    prompt = f\"\"\"I am providing two pieces or sections of text. A source text and a new text. \n",
    "    \n",
    "    Please list the statements in the new text that are consistent with statements in the source text.\n",
    "\n",
    "    Please also provide a list of statements that are in the source text but are not in the new text.\n",
    "\n",
    "    Please also provide a list of statements that are in the new text but are not in the source text.\n",
    "\n",
    "    source Text: \n",
    "    {text1}\n",
    "\n",
    "    \n",
    "    new text:\n",
    "    {text2}\n",
    "\n",
    "    For each item please provide the relevant sections. Return JSON in the form {{\"consistent\": [{{\"new_text\": \"\", \"source_text\": \"\"}}, ...]}}.\n",
    "    \"\"\"\n",
    "\n",
    "    messages = [\n",
    "        {\"role\": \"system\", \"content\": \"Compare two texts and output differences\"},\n",
    "        {\"role\": \"user\", \"content\": prompt},\n",
    "    ]\n",
    "    return messages\n"
   ]
  },
  {
   "cell_type": "code",
   "execution_count": 130,
   "metadata": {},
   "outputs": [],
   "source": [
    "source_text = \"\"\"Amendments: consultation on applications for building control\n",
    "9.  After regulation 15 of the 2010 Regulations insert—\n",
    "\n",
    "“Consultation in relation to fire safety\n",
    "15A.—(1) This regulation applies where it is proposed—\n",
    "\n",
    "(a)to erect, extend or make any structural alteration to a building to which the Regulatory Reform (Fire Safety) Order 2005 applies or will apply after completion of the work, or\n",
    "(b)to change the use of a building to which the Regulatory Reform (Fire Safety) Order 2005 applies or will apply after the change of use,\n",
    "and, in connection with that proposal, an application for building control approval with full plans is given to a relevant authority.\n",
    "\n",
    "(2) Subject to paragraph (3), where this regulation applies the relevant authority must consult the enforcing authority before determining the application for building control approval with full plans given to the relevant authority.\n",
    "\n",
    "(3) The duty to consult imposed by paragraph (2) does not apply where the relevant authority is the enforcing authority.\n",
    "\n",
    "(4) In this regulation “enforcing authority” has the same meaning as in article 25 of the Regulatory Reform (Fire Safety) Order 2005.”.\"\"\""
   ]
  },
  {
   "cell_type": "code",
   "execution_count": 18,
   "metadata": {},
   "outputs": [],
   "source": [
    "new_text = \"\"\"Regulation 9 prescribes that a consultation between the building control authority and \n",
    "the relevant enforcing authorities for the Regulatory Reform (Fire Safety) Order 2005 \n",
    "(Fire Safety Order) must take place before an application for building control approval \n",
    "is determined. The 2022 Act provides for article 45 (consultation with fire and rescue \n",
    "authorities) of the Regulatory Reform (Fire Safety) Order 2005 to be revoked to enable \n",
    "this requirement to be moved into the Building Regulations.\"\"\""
   ]
  },
  {
   "cell_type": "code",
   "execution_count": 43,
   "metadata": {},
   "outputs": [],
   "source": [
    "source_prompt = get_facts_prompt(source_text)\n",
    "new_prompt = get_facts_prompt(new_text)\n",
    "\n",
    "#source_response = asyncio.run(ask_llm(0, source_prompt))\n",
    "#new_response = asyncio.run(ask_llm(1, new_prompt))\n",
    "\n",
    "source_response = await ask_llm(0, source_prompt, max_tokens=4096)\n",
    "new_response = await ask_llm(1, new_prompt, max_tokens=4096)"
   ]
  },
  {
   "cell_type": "code",
   "execution_count": 77,
   "metadata": {},
   "outputs": [],
   "source": [
    "import json\n",
    "source_facts = json.loads(source_response[1].choices[0].message.content)\n",
    "new_facts = json.loads(new_response[1].choices[0].message.content)\n",
    "\n"
   ]
  },
  {
   "cell_type": "code",
   "execution_count": 45,
   "metadata": {},
   "outputs": [
    {
     "data": {
      "text/plain": [
       "[{'fact': 'Regulation 9 prescribes a consultation between the building control authority and the relevant enforcing authorities for the Regulatory Reform (Fire Safety) Order 2005 must take place before an application for building control approval is determined.',\n",
       "  'source_text': 'Regulation 9 prescribes that a consultation between the building control authority and the relevant enforcing authorities for the Regulatory Reform (Fire Safety) Order 2005 must take place before an application for building control approval is determined.'},\n",
       " {'fact': 'The 2022 Act provides for article 45 of the Regulatory Reform (Fire Safety) Order 2005 to be revoked to enable this requirement to be moved into the Building Regulations.',\n",
       "  'source_text': 'The 2022 Act provides for article 45 (consultation with fire and rescue authorities) of the Regulatory Reform (Fire Safety) Order 2005 to be revoked to enable this requirement to be moved into the Building Regulations.'}]"
      ]
     },
     "execution_count": 45,
     "metadata": {},
     "output_type": "execute_result"
    }
   ],
   "source": [
    "new_facts"
   ]
  },
  {
   "cell_type": "code",
   "execution_count": 78,
   "metadata": {},
   "outputs": [],
   "source": [
    "# get embeddings and cross compare to identify the same facts?\n",
    "\n",
    "async def get_fact_embeddings(facts):\n",
    "\n",
    "    for fact in facts:\n",
    "        fact_text = fact['fact']\n",
    "        source_text = fact['source_text']\n",
    "        idx, resp = await get_embeddings(0, [fact_text, source_text])\n",
    "        fact['fact_embedding'] = resp.data[0].embedding\n",
    "        fact['source_embedding'] = resp.data[1].embedding \n",
    "\n",
    "    return facts\n"
   ]
  },
  {
   "cell_type": "code",
   "execution_count": 79,
   "metadata": {},
   "outputs": [],
   "source": [
    "new_facts = await get_fact_embeddings(new_facts)\n",
    "source_facts = await get_fact_embeddings(source_facts)"
   ]
  },
  {
   "cell_type": "code",
   "execution_count": 94,
   "metadata": {},
   "outputs": [],
   "source": [
    "import numpy as np\n",
    "from scipy.spatial.distance import cdist\n",
    "\n",
    "def find_best_matches(embeddings1, embeddings2, threshold=0.2):\n",
    "    # Calculate the cosine distance between two sets of embeddings\n",
    "    cosine_distances = cdist(embeddings1, embeddings2, 'cosine')\n",
    "    \n",
    "    # Find the index of the minimum cosine distance for each item in embeddings1\n",
    "    best_matches = np.argmin(cosine_distances, axis=1)\n",
    "    \n",
    "    # Convert cosine distances to similarities (1 - distance) and apply threshold\n",
    "    best_similarities = 1 - np.min(cosine_distances, axis=1)\n",
    "    match_list = [(i, best_matches[i]) for i in range(len(embeddings1)) if best_similarities[i] >= threshold]\n",
    "    \n",
    "    # Return the match list and the array of cosine distances\n",
    "    return match_list, cosine_distances, best_similarities"
   ]
  },
  {
   "cell_type": "code",
   "execution_count": 110,
   "metadata": {},
   "outputs": [
    {
     "data": {
      "text/plain": [
       "([(0, 0), (1, 0)],\n",
       " array([[0.08493979, 0.10343929],\n",
       "        [0.08427627, 0.09626686],\n",
       "        [0.10214423, 0.16540304],\n",
       "        [0.10193707, 0.19573742],\n",
       "        [0.1894266 , 0.23007876],\n",
       "        [0.12860412, 0.12070059]]),\n",
       " array([0.91506021, 0.91572373, 0.89785577, 0.89806293, 0.8105734 ,\n",
       "        0.87929941]))"
      ]
     },
     "execution_count": 110,
     "metadata": {},
     "output_type": "execute_result"
    }
   ],
   "source": [
    "source_embeddings = [f['fact_embedding'] for f in source_facts]\n",
    "new_embeddings = [f['fact_embedding'] for f in new_facts]\n",
    "match_list, dists, best_similarities = find_best_matches(source_embeddings, new_embeddings, threshold=0.9)\n",
    "match_list, dists, best_similarities"
   ]
  },
  {
   "cell_type": "code",
   "execution_count": 112,
   "metadata": {},
   "outputs": [
    {
     "name": "stdout",
     "output_type": "stream",
     "text": [
      "The regulation applies where it is proposed to erect, extend or make any structural alteration to a building to which the Regulatory Reform (Fire Safety) Order 2005 applies or will apply after completion of the work. \n",
      " 15A.—(1) This regulation applies where it is proposed—(a)to erect, extend or make any structural alteration to a building to which the Regulatory Reform (Fire Safety) Order 2005 applies or will apply after completion of the work\n",
      "Regulation 9 prescribes a consultation between the building control authority and the relevant enforcing authorities for the Regulatory Reform (Fire Safety) Order 2005 must take place before an application for building control approval is determined. \n",
      " Regulation 9 prescribes that a consultation between the building control authority and the relevant enforcing authorities for the Regulatory Reform (Fire Safety) Order 2005 must take place before an application for building control approval is determined.\n"
     ]
    }
   ],
   "source": [
    "print(source_facts[0]['fact'], '\\r\\n',source_facts[0]['source_text'])\n",
    "    \n",
    "print(new_facts[0]['fact'], '\\r\\n',new_facts[0]['source_text'])"
   ]
  },
  {
   "cell_type": "code",
   "execution_count": 114,
   "metadata": {},
   "outputs": [
    {
     "name": "stdout",
     "output_type": "stream",
     "text": [
      "15A.—(1) This regulation applies where it is proposed—(a)to erect, extend or make any structural alteration to a building to which the Regulatory Reform (Fire Safety) Order 2005 applies or will apply after completion of the work\n",
      "The 2022 Act provides for article 45 (consultation with fire and rescue authorities) of the Regulatory Reform (Fire Safety) Order 2005 to be revoked to enable this requirement to be moved into the Building Regulations.\n"
     ]
    }
   ],
   "source": [
    "print(source_facts[0]['source_text'])\n",
    "    \n",
    "print(new_facts[1]['source_text'])"
   ]
  },
  {
   "cell_type": "code",
   "execution_count": 116,
   "metadata": {},
   "outputs": [
    {
     "data": {
      "text/plain": [
       "['15A.—(1) This regulation applies where it is proposed—(a)to erect, extend or make any structural alteration to a building to which the Regulatory Reform (Fire Safety) Order 2005 applies or will apply after completion of the work',\n",
       " '(b)to change the use of a building to which the Regulatory Reform (Fire Safety) Order 2005 applies or will apply after the change of use',\n",
       " 'and, in connection with that proposal, an application for building control approval with full plans is given to a relevant authority.',\n",
       " '(2) Subject to paragraph (3), where this regulation applies the relevant authority must consult the enforcing authority before determining the application for building control approval with full plans given to the relevant authority.',\n",
       " '(3) The duty to consult imposed by paragraph (2) does not apply where the relevant authority is the enforcing authority.',\n",
       " '(4) In this regulation “enforcing authority” has the same meaning as in article 25 of the Regulatory Reform (Fire Safety) Order 2005.']"
      ]
     },
     "execution_count": 116,
     "metadata": {},
     "output_type": "execute_result"
    }
   ],
   "source": [
    "[f['source_text'] for f in source_facts]"
   ]
  },
  {
   "cell_type": "code",
   "execution_count": 118,
   "metadata": {},
   "outputs": [
    {
     "data": {
      "text/plain": [
       "['Regulation 9 prescribes that a consultation between the building control authority and the relevant enforcing authorities for the Regulatory Reform (Fire Safety) Order 2005 must take place before an application for building control approval is determined.',\n",
       " 'The 2022 Act provides for article 45 (consultation with fire and rescue authorities) of the Regulatory Reform (Fire Safety) Order 2005 to be revoked to enable this requirement to be moved into the Building Regulations.']"
      ]
     },
     "execution_count": 118,
     "metadata": {},
     "output_type": "execute_result"
    }
   ],
   "source": [
    "[f['source_text'] for f in new_facts]"
   ]
  },
  {
   "cell_type": "code",
   "execution_count": null,
   "metadata": {},
   "outputs": [],
   "source": [
    "new_text = \"\"\"Regulation 9 prescribes that a consultation between the building control authority and \n",
    "the relevant enforcing authorities for the Regulatory Reform (Fire Safety) Order 2005 \n",
    "(Fire Safety Order) must take place before an application for building control approval \n",
    "is determined. The 2022 Act provides for article 45 (consultation with fire and rescue \n",
    "authorities) of the Regulatory Reform (Fire Safety) Order 2005 to be revoked to enable \n",
    "this requirement to be moved into the Building Regulations.\"\"\""
   ]
  },
  {
   "cell_type": "code",
   "execution_count": null,
   "metadata": {},
   "outputs": [],
   "source": [
    "new_facts[0]['source_text']"
   ]
  },
  {
   "cell_type": "code",
   "execution_count": 134,
   "metadata": {},
   "outputs": [],
   "source": [
    "messages = get_fact_relevance(new_facts[1]['source_text'], source_text)\n",
    "idx, relevant_fact = await ask_llm(0, messages, max_tokens=4096)\n"
   ]
  },
  {
   "cell_type": "code",
   "execution_count": 135,
   "metadata": {},
   "outputs": [
    {
     "data": {
      "text/plain": [
       "{'consistent': False,\n",
       " 'relevant_text': 'After regulation 15 of the 2010 Regulations insert—\\n\\n“Consultation in relation to fire safety\\n15A.—(1) This regulation applies where it is proposed—\\n\\n(a)to erect, extend or make any structural alteration to a building to which the Regulatory Reform (Fire Safety) Order 2005 applies or will apply after completion of the work, or\\n(b)to change the use of a building to which the Regulatory Reform (Fire Safety) Order 2005 applies or will apply after the change of use,\\nand, in connection with that proposal, an application for building control approval with full plans is given to a relevant authority.\\n\\n(2) Subject to paragraph (3), where this regulation applies the relevant authority must consult the enforcing authority before determining the application for building control approval with full plans given to the relevant authority.\\n\\n(3) The duty to consult imposed by paragraph (2) does not apply where the relevant authority is the enforcing authority.\\n\\n(4) In this regulation “enforcing authority” has the same meaning as in article 25 of the Regulatory Reform (Fire Safety) Order 2005.”'}"
      ]
     },
     "execution_count": 135,
     "metadata": {},
     "output_type": "execute_result"
    }
   ],
   "source": [
    "json.loads(relevant_fact.choices[0].message.content)"
   ]
  },
  {
   "cell_type": "code",
   "execution_count": 129,
   "metadata": {},
   "outputs": [
    {
     "data": {
      "text/plain": [
       "'The 2022 Act provides for article 45 (consultation with fire and rescue authorities) of the Regulatory Reform (Fire Safety) Order 2005 to be revoked to enable this requirement to be moved into the Building Regulations.'"
      ]
     },
     "execution_count": 129,
     "metadata": {},
     "output_type": "execute_result"
    }
   ],
   "source": [
    "source_text"
   ]
  },
  {
   "cell_type": "markdown",
   "metadata": {},
   "source": [
    "## Just Ask"
   ]
  },
  {
   "cell_type": "code",
   "execution_count": 139,
   "metadata": {},
   "outputs": [
    {
     "name": "stdout",
     "output_type": "stream",
     "text": [
      "Amendments: consultation on applications for building control\n",
      "9.  After regulation 15 of the 2010 Regulations insert—\n",
      "\n",
      "“Consultation in relation to fire safety\n",
      "15A.—(1) This regulation applies where it is proposed—\n",
      "\n",
      "(a)to erect, extend or make any structural alteration to a building to which the Regulatory Reform (Fire Safety) Order 2005 applies or will apply after completion of the work, or\n",
      "(b)to change the use of a building to which the Regulatory Reform (Fire Safety) Order 2005 applies or will apply after the change of use,\n",
      "and, in connection with that proposal, an application for building control approval with full plans is given to a relevant authority.\n",
      "\n",
      "(2) Subject to paragraph (3), where this regulation applies the relevant authority must consult the enforcing authority before determining the application for building control approval with full plans given to the relevant authority.\n",
      "\n",
      "(3) The duty to consult imposed by paragraph (2) does not apply where the relevant authority is the enforcing authority.\n",
      "\n",
      "(4) In this regulation “enforcing authority” has the same meaning as in article 25 of the Regulatory Reform (Fire Safety) Order 2005.”.\n"
     ]
    }
   ],
   "source": [
    "print(source_text)"
   ]
  },
  {
   "cell_type": "code",
   "execution_count": 140,
   "metadata": {},
   "outputs": [
    {
     "name": "stdout",
     "output_type": "stream",
     "text": [
      "Regulation 9 prescribes that a consultation between the building control authority and \n",
      "the relevant enforcing authorities for the Regulatory Reform (Fire Safety) Order 2005 \n",
      "(Fire Safety Order) must take place before an application for building control approval \n",
      "is determined. The 2022 Act provides for article 45 (consultation with fire and rescue \n",
      "authorities) of the Regulatory Reform (Fire Safety) Order 2005 to be revoked to enable \n",
      "this requirement to be moved into the Building Regulations.\n"
     ]
    }
   ],
   "source": [
    "print(new_text)"
   ]
  },
  {
   "cell_type": "code",
   "execution_count": 147,
   "metadata": {},
   "outputs": [],
   "source": [
    "messages = get_diff_prompt(source_text, new_text)\n",
    "idx, relevant_fact = await ask_llm(0, messages, max_tokens=4096)"
   ]
  },
  {
   "cell_type": "code",
   "execution_count": 150,
   "metadata": {},
   "outputs": [],
   "source": [
    "results = json.loads(relevant_fact.choices[0].message.content)"
   ]
  },
  {
   "cell_type": "code",
   "execution_count": 197,
   "metadata": {},
   "outputs": [],
   "source": [
    "import re\n",
    "from IPython.display import display, HTML\n",
    "\n",
    "def highlight_phrases(text, phrases, color='gray'):\n",
    "    # Escape phrases for literal matching and sort by length in descending order to match longer phrases first\n",
    "    phrases = sorted(phrases, key=len, reverse=True)\n",
    "    phrases = [re.escape(phrase) for phrase in phrases]\n",
    "\n",
    "    # Create a regular expression from the list of phrases\n",
    "    regex_pattern = r'(' + '|'.join(phrases) + r')'\n",
    "\n",
    "    # Function to apply highlighting style\n",
    "    def highlight(match):\n",
    "        return f'<span style=\"background-color: {color};\">{match.group(0)}</span>'\n",
    "    \n",
    "    # Replace occurrences of phrases with highlighted version\n",
    "    highlighted_text = re.sub(regex_pattern, highlight, text, flags=re.IGNORECASE)\n",
    "\n",
    "    return f'<pre>{highlighted_text}</pre>'\n",
    "\n",
    "from IPython.display import display, HTML\n",
    "import re\n",
    "\n",
    "def highlight_phrases_with_priority(text, primary_phrases, primary_color, secondary_phrases, secondary_color):\n",
    "    # Escape all phrases to handle any special characters they may contain\n",
    "    escaped_primary = {re.escape(phrase): phrase for phrase in primary_phrases}\n",
    "    escaped_secondary = {re.escape(phrase): phrase for phrase in secondary_phrases}\n",
    "\n",
    "    # Create a combined dictionary with primary phrases taking precedence\n",
    "    all_phrases = {**escaped_secondary, **escaped_primary}\n",
    "\n",
    "    # Create the regex pattern from the phrases, ensuring primary phrases are matched first\n",
    "    regex_pattern = r'(' + '|'.join(all_phrases.keys()) + r')'\n",
    "\n",
    "    # Function to apply highlighting style based on which list the match came from\n",
    "    def highlight(match):\n",
    "        matched_text = match.group(0)\n",
    "        # Check if the matched text is from the primary list\n",
    "        if matched_text in primary_phrases:\n",
    "            return f'<span style=\"color: black; background-color: {primary_color};\">{matched_text}</span>'\n",
    "        else:\n",
    "            return f'<span style=\"color: black; background-color: {secondary_color};\">{matched_text}</span>'\n",
    "\n",
    "    # Replace occurrences of phrases with highlighted versions\n",
    "    highlighted_text = re.sub(regex_pattern, highlight, text, flags=re.IGNORECASE)\n",
    "\n",
    "    # Wrap in <pre> tags to preserve whitespace and formatting\n",
    "    return f'<pre>{highlighted_text}</pre>'\n",
    "\n",
    "\n",
    "from IPython.display import display, HTML\n",
    "import re\n",
    "\n",
    "def compile_pattern(phrase):\n",
    "    \"\"\"Compile a regex pattern that accounts for arbitrary internal whitespace.\"\"\"\n",
    "    return re.compile(r'\\s*'.join(re.escape(char) for char in phrase))\n",
    "\n",
    "def highlight_phrases(text, phrases, colors):\n",
    "    # Compile regex patterns for each phrase, considering internal variable whitespace\n",
    "    patterns = {compile_pattern(phrase): color for phrase, color in zip(phrases, colors)}\n",
    "\n",
    "    # Function to replace matched phrases with highlighted versions\n",
    "    def replace(match):\n",
    "        matched_text = match.group(0)\n",
    "        for pattern, color in patterns.items():\n",
    "            if pattern.fullmatch(matched_text):\n",
    "                return f'<span style=\"background-color: {color}; color: black;\">{matched_text}</span>'\n",
    "        return matched_text  # default case, should not happen\n",
    "\n",
    "    # Combine all patterns into a single pattern\n",
    "    combined_pattern = re.compile('|'.join('(?:' + pattern.pattern + ')' for pattern in patterns))\n",
    "\n",
    "    # Replace occurrences of phrases with highlighted versions\n",
    "    highlighted_text = re.sub(combined_pattern, replace, text, flags=re.DOTALL)\n",
    "\n",
    "    # Wrap in <pre> tags to preserve whitespace and formatting\n",
    "    return f'<pre>{highlighted_text}</pre>'\n",
    "\n",
    "# Usage example\n",
    "\n"
   ]
  },
  {
   "cell_type": "code",
   "execution_count": 151,
   "metadata": {},
   "outputs": [
    {
     "data": {
      "text/plain": [
       "{'consistent': [{'new_text': 'Regulation 9 prescribes that a consultation between the building control authority and the relevant enforcing authorities for the Regulatory Reform (Fire Safety) Order 2005 (Fire Safety Order) must take place before an application for building control approval is determined.',\n",
       "   'source_text': 'Subject to paragraph (3), where this regulation applies the relevant authority must consult the enforcing authority before determining the application for building control approval with full plans given to the relevant authority.'}],\n",
       " 'source_text_absent_in_new_text': [{'source_text': 'This regulation applies where it is proposed—to erect, extend or make any structural alteration to a building to which the Regulatory Reform (Fire Safety) Order 2005 applies or will apply after completion of the work, or to change the use of a building to which the Regulatory Reform (Fire Safety) Order 2005 applies or will apply after the change of use, and, in connection with that proposal, an application for building control approval with full plans is given to a relevant authority.'},\n",
       "  {'source_text': 'The duty to consult imposed by paragraph (2) does not apply where the relevant authority is the enforcing authority.'},\n",
       "  {'source_text': 'In this regulation “enforcing authority” has the same meaning as in article 25 of the Regulatory Reform (Fire Safety) Order 2005.'}],\n",
       " 'new_text_absent_in_source_text': [{'new_text': 'Regulation 9 prescribes that a consultation between the building control authority and the relevant enforcing authorities for the Regulatory Reform (Fire Safety) Order 2005 (Fire Safety Order) must take place before an application for building control approval is determined.'},\n",
       "  {'new_text': 'The 2022 Act provides for article 45 (consultation with fire and rescue authorities) of the Regulatory Reform (Fire Safety) Order 2005 to be revoked to enable this requirement to be moved into the Building Regulations.'}]}"
      ]
     },
     "execution_count": 151,
     "metadata": {},
     "output_type": "execute_result"
    }
   ],
   "source": [
    "results"
   ]
  },
  {
   "cell_type": "code",
   "execution_count": 179,
   "metadata": {},
   "outputs": [],
   "source": [
    "def highlight_differences_new_text(text, results):\n",
    "    # List of phrases to highlight\n",
    "    consistent_phrases = [p['new_text'] for p in results['consistent']]\n",
    "    source_phrases_absent_in_new = [p['new_text'] for p in results['new_text_absent_in_source_text']]\n",
    "\n",
    "    # Highlight the phrases in the text\n",
    "    # highlighted_text = highlight_phrases(source_text, phrases)\n",
    "    highlighted_text = highlight_phrases_with_priority(text, consistent_phrases, 'lightgreen',  source_phrases_absent_in_new, 'lightcoral')\n",
    "\n",
    "    # Display the highlighted text\n",
    "    display(HTML(highlighted_text))\n",
    "    \n",
    "\n",
    "def highlight_differences_source_text(text, results):\n",
    "    # List of phrases to highlight\n",
    "    consistent_phrases = [p['source_text'] for p in results['consistent']]\n",
    "    source_phrases_absent_in_new = [p['source_text'] for p in results['source_text_absent_in_new_text']]\n",
    "\n",
    "    # Highlight the phrases in the text\n",
    "    # highlighted_text = highlight_phrases(source_text, phrases)\n",
    "    highlighted_text = highlight_phrases_with_priority(text, consistent_phrases, 'lightgreen',  source_phrases_absent_in_new, 'lightcoral')\n",
    "\n",
    "    # Display the highlighted text\n",
    "    display(HTML(highlighted_text))"
   ]
  },
  {
   "cell_type": "code",
   "execution_count": 219,
   "metadata": {},
   "outputs": [],
   "source": [
    "import re\n",
    "\n",
    "def search_string_with_offsets(text, search_term):\n",
    "    # Normalize whitespace in the search term and create a regex pattern\n",
    "    # The pattern will match the search term even if there are new lines, spaces, or tabs between each character\n",
    "    normalized_pattern = r'\\s*'.join(map(re.escape, search_term))\n",
    "    \n",
    "    # Compile the regex pattern with re.DOTALL to match across lines\n",
    "    pattern = re.compile(normalized_pattern, re.DOTALL)\n",
    "    \n",
    "    # Search for the pattern in the text\n",
    "    match = pattern.search(text)\n",
    "    \n",
    "    # Return the match offsets if found\n",
    "    if match:\n",
    "        return [match.start(), match.end()]\n",
    "    else:\n",
    "        return []\n",
    "    \n",
    "from IPython.display import display, HTML\n",
    "\n",
    "def highlight_text_by_offsets(text, offsets, color='yellow'):\n",
    "    \"\"\"\n",
    "    Highlights parts of text based on a list of offsets with the specified color.\n",
    "    \n",
    "    Parameters:\n",
    "        text (str): The original text.\n",
    "        offsets (list of tuples): A list of tuples where each tuple contains (start, end) indices.\n",
    "        color (str): A CSS color string.\n",
    "        \n",
    "    Returns:\n",
    "        Displayable HTML object with highlighted text.\n",
    "    \"\"\"\n",
    "    # Sort offsets to handle them in order in the text\n",
    "    offsets = sorted(offsets, key=lambda x: x[0])\n",
    "    \n",
    "    # List to hold pieces of the new HTML string\n",
    "    highlighted_text_parts = []\n",
    "    last_end = 0\n",
    "    \n",
    "    # Iterate through each offset pair\n",
    "    for start, end in offsets:\n",
    "        # Add non-highlighted text piece\n",
    "        highlighted_text_parts.append(text[last_end:start])\n",
    "        # Add highlighted text piece\n",
    "        highlighted_text_piece = f'<span style=\"background-color: {color};\">{text[start:end]}</span>'\n",
    "        highlighted_text_parts.append(highlighted_text_piece)\n",
    "        last_end = end\n",
    "    \n",
    "    # Add any remaining text after the last highlight\n",
    "    highlighted_text_parts.append(text[last_end:])\n",
    "    \n",
    "    # Join all parts into a single string\n",
    "    highlighted_text = ''.join(highlighted_text_parts)\n",
    "    \n",
    "    # Return HTML displayable object\n",
    "    return '<pre>' + highlighted_text + '</pre>'\n",
    "\n",
    "# Example Usage\n",
    "\n",
    "from IPython.display import display, HTML\n",
    "\n",
    "def highlight_text_by_multiple_offsets(text, offsets1, color1, offsets2, color2):\n",
    "    \"\"\"\n",
    "    Highlights parts of text based on two lists of offsets with different colors.\n",
    "    \n",
    "    Parameters:\n",
    "        text (str): The original text.\n",
    "        offsets1 (list of tuples): First list of tuples where each tuple contains (start, end) indices.\n",
    "        color1 (str): CSS color string for the first list of offsets.\n",
    "        offsets2 (list of tuples): Second list of tuples where each tuple contains (start, end) indices.\n",
    "        color2 (str): CSS color string for the second list of offsets.\n",
    "        \n",
    "    Returns:\n",
    "        Displayable HTML object with highlighted text.\n",
    "    \"\"\"\n",
    "    # Combine both lists with their respective colors\n",
    "    combined_offsets = [(start, end, color1) for start, end in offsets1] + [(start, end, color2) for start, end in offsets2]\n",
    "    # Sort offsets to handle them in order in the text\n",
    "    combined_offsets = sorted(combined_offsets, key=lambda x: x[0])\n",
    "    \n",
    "    # List to hold pieces of the new HTML string\n",
    "    highlighted_text_parts = []\n",
    "    last_end = 0\n",
    "    \n",
    "    # Iterate through each offset tuple\n",
    "    for start, end, color in combined_offsets:\n",
    "        # Add non-highlighted text piece\n",
    "        highlighted_text_parts.append(text[last_end:start])\n",
    "        # Add highlighted text piece\n",
    "        highlighted_text_piece = f'<span style=\"background-color: {color}; color: black;\">{text[start:end]}</span>'\n",
    "        highlighted_text_parts.append(highlighted_text_piece)\n",
    "        last_end = end\n",
    "    \n",
    "    # Add any remaining text after the last highlight\n",
    "    highlighted_text_parts.append(text[last_end:])\n",
    "    \n",
    "    # Join all parts into a single string\n",
    "    highlighted_text = ''.join(highlighted_text_parts)\n",
    "    \n",
    "    # Wrap in <pre> tags to preserve whitespace and formatting\n",
    "    return f'<pre>{highlighted_text}</pre>'\n",
    "\n",
    "def remove_overlapping(ranges1, ranges2):\n",
    "    \"\"\"\n",
    "    Removes items from the second list of ranges that overlap with any range in the first list.\n",
    "    \n",
    "    Parameters:\n",
    "        ranges1 (list of tuples): List of tuples representing ranges (start, end) in the first list.\n",
    "        ranges2 (list of tuples): List of tuples representing ranges (start, end) in the second list.\n",
    "    \n",
    "    Returns:\n",
    "        list of tuples: Filtered list of ranges from the second list with no overlaps.\n",
    "    \"\"\"\n",
    "    filtered_ranges = []\n",
    "\n",
    "    for start2, end2 in ranges2:\n",
    "        overlap = False\n",
    "        for start1, end1 in ranges1:\n",
    "            # Check if there is an overlap\n",
    "            if start1 <= end2 and end1 >= start2:\n",
    "                overlap = True\n",
    "                break\n",
    "        if not overlap:\n",
    "            filtered_ranges.append((start2, end2))\n",
    "\n",
    "    return filtered_ranges\n",
    "\n",
    "# Example Usage\n",
    "\n"
   ]
  },
  {
   "cell_type": "code",
   "execution_count": 221,
   "metadata": {},
   "outputs": [
    {
     "data": {
      "text/html": [
       "<pre><span style=\"background-color: lightgreen; color: black;\">Regulation 9 prescribes that a consultation between the building control authority and \n",
       "the relevant enforcing authorities for the Regulatory Reform (Fire Safety) Order 2005 \n",
       "(Fire Safety Order) must take place before an application for building control approval \n",
       "is determined.</span> <span style=\"background-color: lightcoral; color: black;\">The 2022 Act provides for article 45 (consultation with fire and rescue \n",
       "authorities) of the Regulatory Reform (Fire Safety) Order 2005 to be revoked to enable \n",
       "this requirement to be moved into the Building Regulations.</span></pre>"
      ],
      "text/plain": [
       "<IPython.core.display.HTML object>"
      ]
     },
     "metadata": {},
     "output_type": "display_data"
    }
   ],
   "source": [
    "def get_positions(text, phrases):\n",
    "    positions = []\n",
    "    for phrase in phrases:\n",
    "        pos = search_string_with_offsets(text, phrase)\n",
    "        if len(pos) > 0:\n",
    "            positions.append(pos)\n",
    "    return positions\n",
    "\n",
    "\n",
    "def get_highlighted_html(results, text, text_key, absent_key='source_text_absent_in_new_text'):\n",
    "   \n",
    "    consistent_phrases = [p[text_key] for p in results['consistent']]\n",
    "    text_absent = [p[text_key] for p in results[absent_key]]\n",
    "\n",
    "    consistent_pos = get_positions(text, consistent_phrases)\n",
    "    absent_pos = get_positions(text, text_absent)\n",
    "\n",
    "    absent_pos = remove_overlapping(consistent_pos, absent_pos)\n",
    "\n",
    "    #highlighted_text = highlight_text_by_offsets(new_text, absent_pos, color='lightgreen')\n",
    "    highlighted_text = highlight_text_by_multiple_offsets(text, consistent_pos, 'lightgreen', absent_pos, 'lightcoral')\n",
    "    return highlighted_text\n",
    "\n",
    "\n",
    "consistent_phrases = [p['new_text'] for p in results['consistent']]\n",
    "new_text_absent_in_source_text = [p['new_text'] for p in results['new_text_absent_in_source_text']]\n",
    "\n",
    "consistent_pos = get_positions(new_text, consistent_phrases)\n",
    "absent_pos = get_positions(new_text, new_text_absent_in_source_text)\n",
    "\n",
    "absent_pos = remove_overlapping(consistent_pos, absent_pos)\n",
    "\n",
    "#highlighted_text = highlight_text_by_offsets(new_text, absent_pos, color='lightgreen')\n",
    "highlighted_text = highlight_text_by_multiple_offsets(new_text, consistent_pos, 'lightgreen', absent_pos, 'lightcoral')\n",
    "display(HTML(highlighted_text))\n"
   ]
  },
  {
   "cell_type": "code",
   "execution_count": 223,
   "metadata": {},
   "outputs": [
    {
     "data": {
      "text/html": [
       "<pre>Amendments: consultation on applications for building control\n",
       "9.  After regulation 15 of the 2010 Regulations insert—\n",
       "\n",
       "“Consultation in relation to fire safety\n",
       "15A.—(1) This regulation applies where it is proposed—\n",
       "\n",
       "(a)to erect, extend or make any structural alteration to a building to which the Regulatory Reform (Fire Safety) Order 2005 applies or will apply after completion of the work, or\n",
       "(b)to change the use of a building to which the Regulatory Reform (Fire Safety) Order 2005 applies or will apply after the change of use,\n",
       "and, in connection with that proposal, an application for building control approval with full plans is given to a relevant authority.\n",
       "\n",
       "(2) <span style=\"background-color: lightgreen; color: black;\">Subject to paragraph (3), where this regulation applies the relevant authority must consult the enforcing authority before determining the application for building control approval with full plans given to the relevant authority.</span>\n",
       "\n",
       "(3) <span style=\"background-color: lightcoral; color: black;\">The duty to consult imposed by paragraph (2) does not apply where the relevant authority is the enforcing authority.</span>\n",
       "\n",
       "(4) <span style=\"background-color: lightcoral; color: black;\">In this regulation “enforcing authority” has the same meaning as in article 25 of the Regulatory Reform (Fire Safety) Order 2005.</span>”.</pre>"
      ],
      "text/plain": [
       "<IPython.core.display.HTML object>"
      ]
     },
     "metadata": {},
     "output_type": "display_data"
    }
   ],
   "source": [
    "\n",
    "consistent_phrases = [p['source_text'] for p in results['consistent']]\n",
    "text_absent = [p['source_text'] for p in results['source_text_absent_in_new_text']]\n",
    "\n",
    "consistent_pos = get_positions(source_text, consistent_phrases)\n",
    "absent_pos = get_positions(source_text, text_absent)\n",
    "\n",
    "absent_pos = remove_overlapping(consistent_pos, absent_pos)\n",
    "\n",
    "#highlighted_text = highlight_text_by_offsets(new_text, absent_pos, color='lightgreen')\n",
    "highlighted_text = highlight_text_by_multiple_offsets(source_text, consistent_pos, 'lightgreen', absent_pos, 'lightcoral')\n",
    "display(HTML(highlighted_text))"
   ]
  },
  {
   "cell_type": "code",
   "execution_count": 218,
   "metadata": {},
   "outputs": [
    {
     "data": {
      "text/plain": [
       "([[0, 278]],\n",
       " [[0, 278], [279, 499]],\n",
       " ['Regulation 9 prescribes that a consultation between the building control authority and the relevant enforcing authorities for the Regulatory Reform (Fire Safety) Order 2005 (Fire Safety Order) must take place before an application for building control approval is determined.',\n",
       "  'The 2022 Act provides for article 45 (consultation with fire and rescue authorities) of the Regulatory Reform (Fire Safety) Order 2005 to be revoked to enable this requirement to be moved into the Building Regulations.'])"
      ]
     },
     "execution_count": 218,
     "metadata": {},
     "output_type": "execute_result"
    }
   ],
   "source": [
    "consistent_pos, absent_pos,new_text_absent_in_source_text"
   ]
  },
  {
   "cell_type": "code",
   "execution_count": 180,
   "metadata": {},
   "outputs": [
    {
     "data": {
      "text/html": [
       "<pre>Amendments: consultation on applications for building control\n",
       "9.  After regulation 15 of the 2010 Regulations insert—\n",
       "\n",
       "“Consultation in relation to fire safety\n",
       "15A.—(1) This regulation applies where it is proposed—\n",
       "\n",
       "(a)to erect, extend or make any structural alteration to a building to which the Regulatory Reform (Fire Safety) Order 2005 applies or will apply after completion of the work, or\n",
       "(b)to change the use of a building to which the Regulatory Reform (Fire Safety) Order 2005 applies or will apply after the change of use,\n",
       "and, in connection with that proposal, an application for building control approval with full plans is given to a relevant authority.\n",
       "\n",
       "(2) <span style=\"color: black; background-color: lightgreen;\">Subject to paragraph (3), where this regulation applies the relevant authority must consult the enforcing authority before determining the application for building control approval with full plans given to the relevant authority.</span>\n",
       "\n",
       "(3) <span style=\"color: black; background-color: lightcoral;\">The duty to consult imposed by paragraph (2) does not apply where the relevant authority is the enforcing authority.</span>\n",
       "\n",
       "(4) <span style=\"color: black; background-color: lightcoral;\">In this regulation “enforcing authority” has the same meaning as in article 25 of the Regulatory Reform (Fire Safety) Order 2005.</span>”.</pre>"
      ],
      "text/plain": [
       "<IPython.core.display.HTML object>"
      ]
     },
     "metadata": {},
     "output_type": "display_data"
    },
    {
     "data": {
      "text/html": [
       "<pre>Regulation 9 prescribes that a consultation between the building control authority and \n",
       "the relevant enforcing authorities for the Regulatory Reform (Fire Safety) Order 2005 \n",
       "(Fire Safety Order) must take place before an application for building control approval \n",
       "is determined. The 2022 Act provides for article 45 (consultation with fire and rescue \n",
       "authorities) of the Regulatory Reform (Fire Safety) Order 2005 to be revoked to enable \n",
       "this requirement to be moved into the Building Regulations.</pre>"
      ],
      "text/plain": [
       "<IPython.core.display.HTML object>"
      ]
     },
     "metadata": {},
     "output_type": "display_data"
    }
   ],
   "source": [
    "highlight_differences_source_text(source_text, results)\n"
   ]
  },
  {
   "cell_type": "code",
   "execution_count": 175,
   "metadata": {},
   "outputs": [
    {
     "data": {
      "text/html": [
       "<pre>Amendments: consultation on applications for building control\n",
       "9.  After regulation 15 of the 2010 Regulations insert—\n",
       "\n",
       "“Consultation in relation to fire safety\n",
       "15A.—(1) This regulation applies where it is proposed—\n",
       "\n",
       "(a)to erect, extend or make any structural alteration to a building to which the Regulatory Reform (Fire Safety) Order 2005 applies or will apply after completion of the work, or\n",
       "(b)to change the use of a building to which the Regulatory Reform (Fire Safety) Order 2005 applies or will apply after the change of use,\n",
       "and, in connection with that proposal, an application for building control approval with full plans is given to a relevant authority.\n",
       "\n",
       "(2) <span style=\"color: black; background-color: lightgreen;\">Subject to paragraph (3), where this regulation applies the relevant authority must consult the enforcing authority before determining the application for building control approval with full plans given to the relevant authority.</span>\n",
       "\n",
       "(3) <span style=\"color: black; background-color: lightcoral;\">The duty to consult imposed by paragraph (2) does not apply where the relevant authority is the enforcing authority.</span>\n",
       "\n",
       "(4) <span style=\"color: black; background-color: lightcoral;\">In this regulation “enforcing authority” has the same meaning as in article 25 of the Regulatory Reform (Fire Safety) Order 2005.</span>”.</pre>"
      ],
      "text/plain": [
       "<IPython.core.display.HTML object>"
      ]
     },
     "metadata": {},
     "output_type": "display_data"
    }
   ],
   "source": [
    "# Example text and phrases to be highlighted\n",
    "\n",
    "# List of phrases to highlight\n",
    "consistent_phrases = [p['source_text'] for p in results['consistent']]\n",
    "source_phrases_absent_in_new = [p['source_text'] for p in results['source_text_absent_in_new_text']]\n",
    "\n",
    "# Highlight the phrases in the text\n",
    "# highlighted_text = highlight_phrases(source_text, phrases)\n",
    "highlighted_text = highlight_phrases_with_priority(source_text, consistent_phrases, 'lightgreen',  source_phrases_absent_in_new, 'lightcoral')\n",
    "\n",
    "# Display the highlighted text\n",
    "display(HTML(highlighted_text))\n"
   ]
  },
  {
   "cell_type": "code",
   "execution_count": null,
   "metadata": {},
   "outputs": [],
   "source": []
  },
  {
   "cell_type": "code",
   "execution_count": 166,
   "metadata": {},
   "outputs": [
    {
     "data": {
      "text/plain": [
       "['This regulation applies where it is proposed—to erect, extend or make any structural alteration to a building to which the Regulatory Reform (Fire Safety) Order 2005 applies or will apply after completion of the work, or to change the use of a building to which the Regulatory Reform (Fire Safety) Order 2005 applies or will apply after the change of use, and, in connection with that proposal, an application for building control approval with full plans is given to a relevant authority.',\n",
       " 'The duty to consult imposed by paragraph (2) does not apply where the relevant authority is the enforcing authority.',\n",
       " 'In this regulation “enforcing authority” has the same meaning as in article 25 of the Regulatory Reform (Fire Safety) Order 2005.']"
      ]
     },
     "execution_count": 166,
     "metadata": {},
     "output_type": "execute_result"
    }
   ],
   "source": [
    "[p['source_text'] for p in results['source_text_absent_in_new_text']]"
   ]
  },
  {
   "cell_type": "code",
   "execution_count": 167,
   "metadata": {},
   "outputs": [
    {
     "data": {
      "text/plain": [
       "['Subject to paragraph (3), where this regulation applies the relevant authority must consult the enforcing authority before determining the application for building control approval with full plans given to the relevant authority.']"
      ]
     },
     "execution_count": 167,
     "metadata": {},
     "output_type": "execute_result"
    }
   ],
   "source": [
    "[p['source_text'] for p in results['consistent']]"
   ]
  },
  {
   "cell_type": "code",
   "execution_count": null,
   "metadata": {},
   "outputs": [],
   "source": []
  }
 ],
 "metadata": {
  "kernelspec": {
   "display_name": "db",
   "language": "python",
   "name": "python3"
  },
  "language_info": {
   "codemirror_mode": {
    "name": "ipython",
    "version": 3
   },
   "file_extension": ".py",
   "mimetype": "text/x-python",
   "name": "python",
   "nbconvert_exporter": "python",
   "pygments_lexer": "ipython3",
   "version": "3.10.13"
  }
 },
 "nbformat": 4,
 "nbformat_minor": 2
}
