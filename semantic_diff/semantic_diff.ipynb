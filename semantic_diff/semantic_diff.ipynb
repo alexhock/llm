{
 "cells": [
  {
   "cell_type": "markdown",
   "metadata": {},
   "source": [
    "# Semantic diff"
   ]
  },
  {
   "cell_type": "code",
   "execution_count": 11,
   "metadata": {},
   "outputs": [],
   "source": [
    "import os\n",
    "from openai import AsyncAzureOpenAI, OpenAI\n",
    "import json\n",
    "from IPython.display import display, HTML\n",
    "from fuzzysearch import find_near_matches"
   ]
  },
  {
   "cell_type": "code",
   "execution_count": 12,
   "metadata": {},
   "outputs": [],
   "source": [
    "os.environ[\"OPENAI_API_KEY\"] =\"\"\n",
    "model=\"gpt-4-turbo\"\n",
    "os.environ[\"AZURE_OPENAI_API_KEY\"] = \"\"\n",
    "os.environ[\"OPENAI_API_VERSION\"] = \"2023-05-15\"\n",
    "os.environ[\"AZURE_OPENAI_ENDPOINT\"] = \"\""
   ]
  },
  {
   "cell_type": "code",
   "execution_count": 19,
   "metadata": {},
   "outputs": [],
   "source": [
    "\n",
    "def ask_openai_llm(idx, messages, model=\"gpt-4-turbo\", max_tokens=16000, temperature=0):\n",
    "    client = OpenAI()\n",
    "    response = client.chat.completions.create(\n",
    "        model=model, \n",
    "        messages=messages, \n",
    "        max_tokens=max_tokens,\n",
    "        temperature=temperature\n",
    "    )\n",
    "    return (idx, response)\n",
    "\n",
    "async def ask_llm(idx, messages, model=\"gpt-4-32k\", max_tokens=256, temperature=0):\n",
    "\n",
    "    response = None\n",
    "    client = AsyncAzureOpenAI(  \n",
    "        api_key = os.getenv(\"AZURE_OPENAI_API_KEY\"),  \n",
    "        api_version = os.getenv(\"OPENAI_API_VERSION\"),\n",
    "        azure_endpoint = os.getenv(\"AZURE_OPENAI_ENDPOINT\")\n",
    "    )\n",
    "    response = await client.chat.completions.create(\n",
    "        model=model, \n",
    "        messages=messages, \n",
    "        max_tokens=max_tokens,\n",
    "        temperature=temperature\n",
    "    )\n",
    "\n",
    "    return (idx, response)\n",
    "\n",
    "\n",
    "async def get_embeddings(idx, text, model=\"text-embedding-ada-002\", max_tokens=4096):\n",
    "\n",
    "    client = AsyncAzureOpenAI(  \n",
    "        api_key = os.getenv(\"AZURE_OPENAI_API_KEY\"),  \n",
    "        api_version = os.getenv(\"OPENAI_API_VERSION\"),\n",
    "        azure_endpoint = os.getenv(\"AZURE_OPENAI_ENDPOINT\")\n",
    "    )\n",
    "    response = await client.embeddings.create(\n",
    "        model=model,\n",
    "        input=text\n",
    "    )\n",
    "\n",
    "    return (idx, response)\n"
   ]
  },
  {
   "cell_type": "code",
   "execution_count": 4,
   "metadata": {},
   "outputs": [],
   "source": [
    "def highlight_text_by_multiple_offsets(text, offsets1, color1, offsets2, color2):\n",
    "    \"\"\"\n",
    "    Highlights parts of text based on two lists of offsets with different colors.\n",
    "    \n",
    "    Parameters:\n",
    "        text (str): The original text.\n",
    "        offsets1 (list of tuples): First list of tuples where each tuple contains (start, end) indices.\n",
    "        color1 (str): CSS color string for the first list of offsets.\n",
    "        offsets2 (list of tuples): Second list of tuples where each tuple contains (start, end) indices.\n",
    "        color2 (str): CSS color string for the second list of offsets.\n",
    "        \n",
    "    Returns:\n",
    "        Displayable HTML object with highlighted text.\n",
    "    \"\"\"\n",
    "    # Combine both lists with their respective colors\n",
    "    combined_offsets = [(start, end, color1) for start, end in offsets1] + [(start, end, color2) for start, end in offsets2]\n",
    "    # Sort offsets to handle them in order in the text\n",
    "    combined_offsets = sorted(combined_offsets, key=lambda x: x[0])\n",
    "    \n",
    "    # List to hold pieces of the new HTML string\n",
    "    highlighted_text_parts = []\n",
    "    last_end = 0\n",
    "    \n",
    "    # Iterate through each offset tuple\n",
    "    for start, end, color in combined_offsets:\n",
    "        # Add non-highlighted text piece\n",
    "        highlighted_text_parts.append(text[last_end:start])\n",
    "        # Add highlighted text piece\n",
    "        highlighted_text_piece = f'<span style=\"background-color: {color}; color: black;\">{text[start:end]}</span>'\n",
    "        highlighted_text_parts.append(highlighted_text_piece)\n",
    "        last_end = end\n",
    "    \n",
    "    # Add any remaining text after the last highlight\n",
    "    highlighted_text_parts.append(text[last_end:])\n",
    "    \n",
    "    # Join all parts into a single string\n",
    "    highlighted_text = ''.join(highlighted_text_parts)\n",
    "    \n",
    "    # Wrap in <pre> tags to preserve whitespace and formatting\n",
    "    return f'<pre>{highlighted_text}</pre>'\n",
    "\n",
    "\n",
    "def remove_overlapping(ranges1, ranges2):\n",
    "    \"\"\"\n",
    "    Removes items from the second list of ranges that overlap with any range in the first list.\n",
    "    \n",
    "    Parameters:\n",
    "        ranges1 (list of tuples): List of tuples representing ranges (start, end) in the first list.\n",
    "        ranges2 (list of tuples): List of tuples representing ranges (start, end) in the second list.\n",
    "    \n",
    "    Returns:\n",
    "        list of tuples: Filtered list of ranges from the second list with no overlaps.\n",
    "    \"\"\"\n",
    "    filtered_ranges = []\n",
    "\n",
    "    for start2, end2 in ranges2:\n",
    "        overlap = False\n",
    "        for start1, end1 in ranges1:\n",
    "            # Check if there is an overlap\n",
    "            if start1 <= end2 and end1 >= start2:\n",
    "                overlap = True\n",
    "                break\n",
    "        if not overlap:\n",
    "            filtered_ranges.append((start2, end2))\n",
    "\n",
    "    return filtered_ranges\n",
    "\n",
    "\n",
    "def fuzzy_phrase_search(text, phrase, max_l_dist=5):\n",
    "    matches = find_near_matches(phrase, text, max_l_dist=max_l_dist)\n",
    "    return [[match.start, match.end] for match in matches]\n",
    "\n",
    "\n",
    "def get_positions2(text, phrases):\n",
    "    positions = []\n",
    "    for phrase in phrases:\n",
    "        fuzzy_pos = fuzzy_phrase_search(text, phrase)[0]   \n",
    "        if len(fuzzy_pos) > 0:\n",
    "            positions.append(fuzzy_pos)\n",
    "    return positions\n",
    "\n",
    "\n",
    "def get_highlighted_html2(results, text, text_key, absent_key='in_source_not_in_new'):\n",
    "   \n",
    "    consistent_phrases = [p[text_key] for p in results['consistent']]\n",
    "    text_absent = [p[text_key] for p in results[absent_key]]\n",
    "\n",
    "    consistent_pos = get_positions2(text, consistent_phrases)\n",
    "    absent_pos = get_positions2(text, text_absent)\n",
    "\n",
    "    absent_pos = remove_overlapping(consistent_pos, absent_pos)\n",
    "\n",
    "    highlighted_text = highlight_text_by_multiple_offsets(text, consistent_pos, 'lightgreen', absent_pos, 'lightcoral')\n",
    "    return highlighted_text\n"
   ]
  },
  {
   "cell_type": "code",
   "execution_count": 5,
   "metadata": {},
   "outputs": [],
   "source": [
    "\n",
    "def get_diff_prompt(text1, text2):\n",
    "    \n",
    "    prompt = f\"\"\"I am providing two pieces or sections of text. A source text and a new text. \n",
    "    \n",
    "    Please list the statements in the new text that are consistent with statements in the source text.\n",
    "\n",
    "    Please also provide a list of statements that are in the source text but are not in the new text.\n",
    "\n",
    "    Please also provide a list of statements that are in the new text but are not in the source text.\n",
    "\n",
    "    source Text: \n",
    "    {text1}\n",
    "\n",
    "    \n",
    "    new text:\n",
    "    {text2}\n",
    "\n",
    "    For each item please provide the relevant sections. Return JSON in the form {{\"consistent\": [{{\"new_text\": \"\", \"source_text\": \"\"}}], \"new_not_in_source\": [], \"source_not_in_new\": []]}}.\n",
    "    \"\"\"\n",
    "\n",
    "    messages = [\n",
    "        {\"role\": \"system\", \"content\": \"Compare two texts and output differences\"},\n",
    "        {\"role\": \"user\", \"content\": prompt},\n",
    "    ]\n",
    "    return messages\n"
   ]
  },
  {
   "cell_type": "markdown",
   "metadata": {},
   "source": [
    "# Compare text"
   ]
  },
  {
   "cell_type": "code",
   "execution_count": 6,
   "metadata": {},
   "outputs": [],
   "source": [
    "source_text = \"\"\"Amendments to relating to fire safety information\n",
    "13.—(1) In regulation 38 (fire safety information) of the 2010 Regulations, for paragraph (2) substitute—\n",
    "\n",
    "“(2) The person carrying out the work must give fire safety information to the responsible person no later than—\n",
    "\n",
    "(a)where the building, proposed building or extension to which the building work relates is not occupied during the building work, the date of completion of the work or the date of occupation of the building or the extension, whichever is the earlier;\n",
    "(b)in any other case, the date of completion of the work.\n",
    "(2A) The responsible person must give the person carrying out the work a notice acknowledging receipt of the fire safety information and confirming the information provided is sufficient to enable them to understand, operate and maintain the building (and the fire safety systems in it) after the building work in question.\n",
    "\n",
    "(2B) Subject to paragraph (2D), the person carrying out the work must give a notice to the relevant authority—\n",
    "\n",
    "(a)confirming that they have given the fire safety information to the responsible person pursuant to paragraph (2), and\n",
    "(b)stating that they have received the notice from the responsible person pursuant to paragraph (2A) or where they have not received the notice, stating the steps taken to obtain the notice from the responsible person and the dates they were taken.\n",
    "(2C) The notification under paragraph (2B) must be given no later than—\n",
    "\n",
    "(a)where regulation 20 (provisions applicable to self-certification schemes) applies to the work, 30 days after the date referred to in paragraph (2),\n",
    "(b)in any other case, five days after the date referred to in paragraph (2).\n",
    "(2D) Paragraphs (2B) and (2C) do not apply where regulation 20A (provisions applicable to third party certification schemes) applies to the work and instead paragraphs (2E) to (2G) apply.\n",
    "\n",
    "(2E) Where this paragraph applies, the person carrying out the work must notify the third party certifier appointed under regulation 12(6)(c)—\n",
    "\n",
    "(a)confirming that they have given the fire safety information to the responsible person pursuant to paragraph (2), and\n",
    "(b)stating that they have received the notice from the responsible person pursuant to paragraph (2A) or where they have not received the notice, stating the steps taken to obtain the notice from the responsible person and the dates they were taken.\n",
    "(2F) The notification under paragraph (2E) must be given no later than seven days after the date referred to in paragraph (2).\n",
    "\n",
    "(2G) Within 30 days of receiving the notification under paragraph (2E) the third party certifier appointed under regulation 12(6)(c) must notify the relevant authority confirming receipt of the notification under paragraph (2E).”.\n",
    "\n",
    "(2) In regulation 17 (completion certificates), in paragraph (1) for “it, a building complies with the relevant provisions” substitute “a building, the relevant provisions have been complied with in relation to the building”.\n",
    "\n",
    "(3) In regulation 17A (certificate for building occupied before work is completed), in sub-paragraph (1)(c) for “those parts of the building which are to be occupied before completion of the work currently comply with regulation 38 and Part B of Schedule 1” substitute “regulation 38 and Part B of Schedule 1 are currently complied with in relation to those parts of the building which are to be occupied before completion of the work”.\"\"\"\n",
    "\n",
    "\n",
    "new_text = \"\"\"Regulation 13 of this instrument strengthens fire safety information handover from the \n",
    "person carrying out the work to the responsible person. This will include handing over \n",
    "the information earlier in the process; gaining confirmation from the person who \n",
    "receives the information that it is sufficient to enable them to understand, operate and \n",
    "maintain the building; and giving notice to the relevant authority that the transfer of \n",
    "information has taken place. The fire safety information is information relating to the \n",
    "design and construction of the building or extension, and the services, fittings and \n",
    "equipment provided in or in connection with the building or extension which will assist \n",
    "the responsible person to operate and maintain the building or extension with reasonable \n",
    "safety.\"\"\""
   ]
  },
  {
   "cell_type": "markdown",
   "metadata": {},
   "source": [
    "### Get the diff phrases from the LLM"
   ]
  },
  {
   "cell_type": "code",
   "execution_count": 23,
   "metadata": {},
   "outputs": [],
   "source": [
    "messages = get_diff_prompt(source_text, new_text)\n",
    "idx, relevant_fact = await ask_llm(0, messages, max_tokens=16000)\n",
    "#idx, relevant_fact = ask_openai_llm(0, messages, model=\"gpt-4-turbo\", max_tokens=4000)\n",
    "results = json.loads(relevant_fact.choices[0].message.content)"
   ]
  },
  {
   "cell_type": "markdown",
   "metadata": {},
   "source": [
    "### Show them highlighted on the original text"
   ]
  },
  {
   "cell_type": "code",
   "execution_count": 74,
   "metadata": {},
   "outputs": [
    {
     "data": {
      "text/html": [
       "<h1>Highlighted Differences</h1><h2>New Text</h2>"
      ],
      "text/plain": [
       "<IPython.core.display.HTML object>"
      ]
     },
     "metadata": {},
     "output_type": "display_data"
    },
    {
     "data": {
      "text/html": [
       "<pre><span style=\"background-color: lightgreen; color: black;\">Regulation 13 of this instrument strengthens fire safety information handover from the \n",
       "person carrying out the work to the responsible person.</span> <span style=\"background-color: lightgreen; color: black;\">This will include handing over \n",
       "the information earlier in the process;</span> <span style=\"background-color: lightgreen; color: black;\">gaining confirmation from the person who \n",
       "receives the information that it is sufficient to enable them to understand, operate and \n",
       "maintain the building;</span> <span style=\"background-color: lightgreen; color: black;\">and giving notice to the relevant authority that the transfer of \n",
       "information has taken place.</span> <span style=\"background-color: lightcoral; color: black;\">The fire safety information is information relating to the \n",
       "design and construction of the building or extension, and the services, fittings and \n",
       "equipment provided in or in connection with the building or extension which will assist \n",
       "the responsible person to operate and maintain the building or extension with reasonable \n",
       "safety.</span></pre>"
      ],
      "text/plain": [
       "<IPython.core.display.HTML object>"
      ]
     },
     "metadata": {},
     "output_type": "display_data"
    },
    {
     "data": {
      "text/html": [
       "<h2>Source Text</h2>"
      ],
      "text/plain": [
       "<IPython.core.display.HTML object>"
      ]
     },
     "metadata": {},
     "output_type": "display_data"
    },
    {
     "data": {
      "text/html": [
       "<pre>Amendments to relating to fire safety information\n",
       "<span style=\"background-color: lightgreen; color: black;\">13.—(1) In regulation 38 (fire safety information) of the 2010 Regulations, for paragraph (2) substitute—\n",
       "\n",
       "“(2) The person carrying out the work must give fire safety information to the responsible person no later than—</span>\n",
       "\n",
       "<span style=\"background-color: lightgreen; color: black;\">(a)where the building, proposed building or extension to which the building work relates is not occupied during the building work, the date of completion of the work or the date of occupation of the building or the extension, whichever is the earlier;</span>\n",
       "(b)in any other case, the date of completion of the work.\n",
       "<span style=\"background-color: lightgreen; color: black;\">(2A) The responsible person must give the person carrying out the work a notice acknowledging receipt of the fire safety information and confirming the information provided is sufficient to enable them to understand, operate and maintain the building (and the fire safety systems in it) after the building work in question.</span>\n",
       "\n",
       "<span style=\"background-color: lightgreen; color: black;\">(2B) Subject to paragraph (2D), the person carrying out the work must give a notice to the relevant authority—\n",
       "\n",
       "(a)confirming that they have given the fire safety information to the responsible person pursuant to paragraph (2), and\n",
       "(b)stating that they have received the notice from the responsible person pursuant to paragraph (2A) or where they have not received the notice, stating the steps taken to obtain the notice from the responsible person and the dates they were taken.</span>\n",
       "<span style=\"background-color: lightcoral; color: black;\">(2C) The notification under paragraph (2B) must be given no later than—\n",
       "\n",
       "(a)where regulation 20 (provisions applicable to self-certification schemes) applies to the work, 30 days after the date referred to in paragraph (2),\n",
       "(b)in any other case, five days after the date referred to in paragraph (2).</span>\n",
       "<span style=\"background-color: lightcoral; color: black;\">(2D) Paragraphs (2B) and (2C) do not apply where regulation 20A (provisions applicable to third party certification schemes) applies to the work and instead paragraphs (2E) to (2G) apply.</span>\n",
       "\n",
       "<span style=\"background-color: lightcoral; color: black;\">(2E) Where this paragraph applies, the person carrying out the work must notify the third party certifier appointed under regulation 12(6)(c)—\n",
       "\n",
       "(a)confirming that they have given the fire safety information to the responsible person pursuant to paragraph (2), and\n",
       "(b)stating that they have received the notice from the responsible person pursuant to paragraph (2A) or where they have not received the notice, stating the steps taken to obtain the notice from the responsible person and the dates they were taken.</span>\n",
       "<span style=\"background-color: lightcoral; color: black;\">(2F) The notification under paragraph (2E) must be given no later than seven days after the date referred to in paragraph (2).</span>\n",
       "\n",
       "<span style=\"background-color: lightcoral; color: black;\">(2G) Within 30 days of receiving the notification under paragraph (2E) the third party certifier appointed under regulation 12(6)(c) must notify the relevant authority confirming receipt of the notification under paragraph (2E).”.</span>\n",
       "\n",
       "<span style=\"background-color: lightcoral; color: black;\">(2) In regulation 17 (completion certificates), in paragraph (1) for “it, a building complies with the relevant provisions” substitute “a building, the relevant provisions have been complied with in relation to the building”.</span>\n",
       "\n",
       "<span style=\"background-color: lightcoral; color: black;\">(3) In regulation 17A (certificate for building occupied before work is completed), in sub-paragraph (1)(c) for “those parts of the building which are to be occupied before completion of the work currently comply with regulation 38 and Part B of Schedule 1” substitute “regulation 38 and Part B of Schedule 1 are currently complied with in relation to those parts of the building which are to be occupied before completion of the work”.</span></pre>"
      ],
      "text/plain": [
       "<IPython.core.display.HTML object>"
      ]
     },
     "metadata": {},
     "output_type": "display_data"
    }
   ],
   "source": [
    "source_text_highlighted = get_highlighted_html2(results, source_text, 'source_text', 'source_not_in_new')\n",
    "new_text_highlighted = get_highlighted_html2(results, new_text, 'new_text', 'new_not_in_source')\n",
    "display(HTML(\"<h1>Highlighted Differences</h1><h2>New Text</h2>\"))\n",
    "display(HTML(new_text_highlighted))\n",
    "display(HTML(\"<h2>Source Text</h2>\"))\n",
    "display(HTML(source_text_highlighted))\n"
   ]
  },
  {
   "cell_type": "markdown",
   "metadata": {},
   "source": [
    "### Example 2"
   ]
  },
  {
   "cell_type": "code",
   "execution_count": 75,
   "metadata": {},
   "outputs": [],
   "source": [
    "\n",
    "# https://www.legislation.gov.uk/uksi/2023/911/regulation/13/made\n",
    "# https://www.legislation.gov.uk/uksi/2023/911/pdfs/uksiem_20230911_en_002.pdf\n",
    "\n",
    "\n",
    "source_text = \"\"\"Amendments: consultation on applications for building control\n",
    "9.  After regulation 15 of the 2010 Regulations insert—\n",
    "\n",
    "“Consultation in relation to fire safety\n",
    "15A.—(1) This regulation applies where it is proposed—\n",
    "\n",
    "(a)to erect, extend or make any structural alteration to a building to which the Regulatory Reform (Fire Safety) Order 2005 applies or will apply after completion of the work, or\n",
    "(b)to change the use of a building to which the Regulatory Reform (Fire Safety) Order 2005 applies or will apply after the change of use,\n",
    "and, in connection with that proposal, an application for building control approval with full plans is given to a relevant authority.\n",
    "\n",
    "(2) Subject to paragraph (3), where this regulation applies the relevant authority must consult the enforcing authority before determining the application for building control approval with full plans given to the relevant authority.\n",
    "\n",
    "(3) The duty to consult imposed by paragraph (2) does not apply where the relevant authority is the enforcing authority.\n",
    "\n",
    "(4) In this regulation “enforcing authority” has the same meaning as in article 25 of the Regulatory Reform (Fire Safety) Order 2005.”.\"\"\"\n",
    "\n",
    "\n",
    "new_text = \"\"\"Regulation 9 prescribes that a consultation between the building control authority and \n",
    "the relevant enforcing authorities for the Regulatory Reform (Fire Safety) Order 2005 \n",
    "(Fire Safety Order) must take place before an application for building control approval \n",
    "is determined. The 2022 Act provides for article 45 (consultation with fire and rescue \n",
    "authorities) of the Regulatory Reform (Fire Safety) Order 2005 to be revoked to enable \n",
    "this requirement to be moved into the Building Regulations.\"\"\""
   ]
  },
  {
   "cell_type": "code",
   "execution_count": 76,
   "metadata": {},
   "outputs": [],
   "source": [
    "messages = get_diff_prompt(source_text, new_text)\n",
    "idx, relevant_fact = await ask_llm(0, messages, max_tokens=1500)\n",
    "#idx, relevant_fact = ask_openai_llm(0, messages, model=\"gpt-4-turbo\", max_tokens=4000)\n",
    "results = json.loads(relevant_fact.choices[0].message.content)"
   ]
  },
  {
   "cell_type": "code",
   "execution_count": 79,
   "metadata": {},
   "outputs": [
    {
     "data": {
      "text/plain": [
       "{'consistent': [{'new_text': 'Regulation 9 prescribes that a consultation between the building control authority and the relevant enforcing authorities for the Regulatory Reform (Fire Safety) Order 2005 (Fire Safety Order) must take place before an application for building control approval is determined.',\n",
       "   'source_text': '(2) Subject to paragraph (3), where this regulation applies the relevant authority must consult the enforcing authority before determining the application for building control approval with full plans given to the relevant authority.'}],\n",
       " 'new_not_in_source': [{'new_text': 'The 2022 Act provides for article 45 (consultation with fire and rescue authorities) of the Regulatory Reform (Fire Safety) Order 2005 to be revoked to enable this requirement to be moved into the Building Regulations.'}],\n",
       " 'source_not_in_new': [{'source_text': '9.  After regulation 15 of the 2010 Regulations insert—'},\n",
       "  {'source_text': '“Consultation in relation to fire safety'},\n",
       "  {'source_text': '15A.—(1) This regulation applies where it is proposed—'},\n",
       "  {'source_text': '(a)to erect, extend or make any structural alteration to a building to which the Regulatory Reform (Fire Safety) Order 2005 applies or will apply after completion of the work, or'},\n",
       "  {'source_text': '(b)to change the use of a building to which the Regulatory Reform (Fire Safety) Order 2005 applies or will apply after the change of use, and, in connection with that proposal, an application for building control approval with full plans is given to a relevant authority.'},\n",
       "  {'source_text': '(3) The duty to consult imposed by paragraph (2) does not apply where the relevant authority is the enforcing authority.'},\n",
       "  {'source_text': '(4) In this regulation “enforcing authority” has the same meaning as in article 25 of the Regulatory Reform (Fire Safety) Order 2005.”.'}]}"
      ]
     },
     "execution_count": 79,
     "metadata": {},
     "output_type": "execute_result"
    }
   ],
   "source": [
    "results"
   ]
  },
  {
   "cell_type": "code",
   "execution_count": 77,
   "metadata": {},
   "outputs": [
    {
     "data": {
      "text/html": [
       "<h1>Highlighted Differences</h1><h2>New Text</h2>"
      ],
      "text/plain": [
       "<IPython.core.display.HTML object>"
      ]
     },
     "metadata": {},
     "output_type": "display_data"
    },
    {
     "data": {
      "text/html": [
       "<pre><span style=\"background-color: lightgreen; color: black;\">Regulation 9 prescribes that a consultation between the building control authority and \n",
       "the relevant enforcing authorities for the Regulatory Reform (Fire Safety) Order 2005 \n",
       "(Fire Safety Order) must take place before an application for building control approval \n",
       "is determined.</span> <span style=\"background-color: lightcoral; color: black;\">The 2022 Act provides for article 45 (consultation with fire and rescue \n",
       "authorities) of the Regulatory Reform (Fire Safety) Order 2005 to be revoked to enable \n",
       "this requirement to be moved into the Building Regulations.</span></pre>"
      ],
      "text/plain": [
       "<IPython.core.display.HTML object>"
      ]
     },
     "metadata": {},
     "output_type": "display_data"
    },
    {
     "data": {
      "text/html": [
       "<h2>Source Text</h2>"
      ],
      "text/plain": [
       "<IPython.core.display.HTML object>"
      ]
     },
     "metadata": {},
     "output_type": "display_data"
    },
    {
     "data": {
      "text/html": [
       "<pre>Amendments: consultation on applications for building control\n",
       "<span style=\"background-color: lightcoral; color: black;\">9.  After regulation 15 of the 2010 Regulations insert—</span>\n",
       "\n",
       "<span style=\"background-color: lightcoral; color: black;\">“Consultation in relation to fire safety</span>\n",
       "<span style=\"background-color: lightcoral; color: black;\">15A.—(1) This regulation applies where it is proposed—</span>\n",
       "\n",
       "<span style=\"background-color: lightcoral; color: black;\">(a)to erect, extend or make any structural alteration to a building to which the Regulatory Reform (Fire Safety) Order 2005 applies or will apply after completion of the work, or</span>\n",
       "<span style=\"background-color: lightcoral; color: black;\">(b)to change the use of a building to which the Regulatory Reform (Fire Safety) Order 2005 applies or will apply after the change of use,\n",
       "and, in connection with that proposal, an application for building control approval with full plans is given to a relevant authority.</span>\n",
       "\n",
       "<span style=\"background-color: lightgreen; color: black;\">(2) Subject to paragraph (3), where this regulation applies the relevant authority must consult the enforcing authority before determining the application for building control approval with full plans given to the relevant authority.</span>\n",
       "\n",
       "<span style=\"background-color: lightcoral; color: black;\">(3) The duty to consult imposed by paragraph (2) does not apply where the relevant authority is the enforcing authority.</span>\n",
       "\n",
       "<span style=\"background-color: lightcoral; color: black;\">(4) In this regulation “enforcing authority” has the same meaning as in article 25 of the Regulatory Reform (Fire Safety) Order 2005.”.</span></pre>"
      ],
      "text/plain": [
       "<IPython.core.display.HTML object>"
      ]
     },
     "metadata": {},
     "output_type": "display_data"
    }
   ],
   "source": [
    "\n",
    "source_text_highlighted = get_highlighted_html2(results, source_text, 'source_text', 'source_not_in_new')\n",
    "new_text_highlighted = get_highlighted_html2(results, new_text, 'new_text', 'new_not_in_source')\n",
    "display(HTML(\"<h1>Highlighted Differences</h1><h2>New Text</h2>\"))\n",
    "display(HTML(new_text_highlighted))\n",
    "display(HTML(\"<h2>Source Text</h2>\"))\n",
    "display(HTML(source_text_highlighted))\n"
   ]
  },
  {
   "cell_type": "code",
   "execution_count": null,
   "metadata": {},
   "outputs": [],
   "source": []
  }
 ],
 "metadata": {
  "kernelspec": {
   "display_name": "db",
   "language": "python",
   "name": "python3"
  },
  "language_info": {
   "codemirror_mode": {
    "name": "ipython",
    "version": 3
   },
   "file_extension": ".py",
   "mimetype": "text/x-python",
   "name": "python",
   "nbconvert_exporter": "python",
   "pygments_lexer": "ipython3",
   "version": "3.10.13"
  }
 },
 "nbformat": 4,
 "nbformat_minor": 2
}
